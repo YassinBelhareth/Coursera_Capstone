{
 "cells": [
  {
   "cell_type": "markdown",
   "metadata": {},
   "source": [
    "<h1 align=center><font size = 6> Segmenting and Clustering Neighborhoods in Paris City <font/><h1/>"
   ]
  },
  {
   "cell_type": "markdown",
   "metadata": {},
   "source": [
    "## Introduction"
   ]
  },
  {
   "cell_type": "markdown",
   "metadata": {},
   "source": [
    "In this notebook, we are going to see the segmenting and clustering neighborhoods in Paris city. the segmentation will be on two levels: Neighborhood's population and (type and number) business venue. First, we will collect data about the Paris city as like name and coordinates geographics neighborhood and Paris business venues. Secondly, we will use it  to understand and analysis. Thirdly, we will apply k-means method in order to segment data and lastly, we will analyse the result of clustering."
   ]
  },
  {
   "cell_type": "markdown",
   "metadata": {},
   "source": [
    "## Table of Contents\n",
    "\n",
    "<div class=\"alert alert-block alert-info\" style=\"margin-top: 20px\">\n",
    "\n",
    "<font size = 3>\n",
    "1. <a href=\"#item1\">Data Collection</a>  \n",
    "    1.1. <a href=\"#item1.1\">Names and Geographic Coordinates of Neighborhoods</a>\n",
    "    1.2. <a href=\"#item1.2\">Venues of Neighborhoods</a> 2. <a href=\"#item2\">Data Analysis</a>\n",
    "    \n",
    "    2.1 <a href=\"#item2.1\">Data of Names and Geographic Coordinates of Neighborhoods</a>\n",
    "    \n",
    "    2.2 <a href=\"#item2.2\">Data of Venues of Neighborhoods</a>\n",
    "    \n",
    "\n",
    "3. <a href=\"#item3\">Application of the method</a>\n",
    "\n",
    "</font>\n",
    "</div>"
   ]
  },
  {
   "cell_type": "markdown",
   "metadata": {},
   "source": [
    "<a id='item1'></a>"
   ]
  },
  {
   "cell_type": "markdown",
   "metadata": {},
   "source": [
    "## 1. Data Collection"
   ]
  },
  {
   "cell_type": "markdown",
   "metadata": {},
   "source": [
    "<a id='item1.1'></a>"
   ]
  },
  {
   "cell_type": "markdown",
   "metadata": {},
   "source": [
    "###  1.1 Names and Geographic Coordinates of Neighborhoods"
   ]
  },
  {
   "cell_type": "markdown",
   "metadata": {},
   "source": [
    "Import some packages for using to collect data"
   ]
  },
  {
   "cell_type": "code",
   "execution_count": 1,
   "metadata": {},
   "outputs": [],
   "source": [
    "import requests\n",
    "from bs4 import BeautifulSoup\n",
    "import pandas as pd\n",
    "import re\n",
    "import matplotlib.pyplot as plt\n",
    "import seaborn as sns\n",
    "%matplotlib inline"
   ]
  },
  {
   "cell_type": "markdown",
   "metadata": {},
   "source": [
    "Get the content of wiki page"
   ]
  },
  {
   "cell_type": "code",
   "execution_count": 33,
   "metadata": {},
   "outputs": [],
   "source": [
    "url_wiki = 'https://fr.wikipedia.org/wiki/Liste_des_quartiers_administratifs_de_Paris'\n",
    "centent_wiki = requests.get(url_wiki).text # get the content of wiki page"
   ]
  },
  {
   "cell_type": "markdown",
   "metadata": {},
   "source": [
    "Intialize the object BeautifulSoup by wiki content in order ot parser it "
   ]
  },
  {
   "cell_type": "code",
   "execution_count": 34,
   "metadata": {},
   "outputs": [],
   "source": [
    "soup = BeautifulSoup(centent_wiki,'lxml')"
   ]
  },
  {
   "cell_type": "markdown",
   "metadata": {},
   "source": [
    "Extract the table form the content."
   ]
  },
  {
   "cell_type": "code",
   "execution_count": 35,
   "metadata": {},
   "outputs": [],
   "source": [
    "table = soup.find('table',{'class':'wikitable sortable'})"
   ]
  },
  {
   "cell_type": "markdown",
   "metadata": {},
   "source": [
    "Get the table header."
   ]
  },
  {
   "cell_type": "code",
   "execution_count": 14,
   "metadata": {},
   "outputs": [
    {
     "data": {
      "text/plain": [
       "['Arrondissement[1],[n 1]',\n",
       " 'Quartiers',\n",
       " 'Population en1999 (hab.)[2]',\n",
       " 'Superficie(ha)[2]',\n",
       " 'Densitéhab/km2',\n",
       " 'Plan']"
      ]
     },
     "execution_count": 14,
     "metadata": {},
     "output_type": "execute_result"
    }
   ],
   "source": [
    "columns_names = table.find_all('th')\n",
    "columns_names = [col.text.strip() for col in  columns_names]\n",
    "columns_names"
   ]
  },
  {
   "cell_type": "markdown",
   "metadata": {},
   "source": [
    "Rename table header in english languge."
   ]
  },
  {
   "cell_type": "code",
   "execution_count": 21,
   "metadata": {},
   "outputs": [],
   "source": [
    "columns_names_0 = ['borough','Rank','Neighborhood','Population','Area','Density']"
   ]
  },
  {
   "cell_type": "markdown",
   "metadata": {},
   "source": [
    "Extract Data table "
   ]
  },
  {
   "cell_type": "code",
   "execution_count": 22,
   "metadata": {},
   "outputs": [],
   "source": [
    "df_Paris = pd.DataFrame(columns=columns_names_0) # Intialize the Paris DataFrame\n",
    "name_boroughs = ''\n",
    "table_rows = table.find_all('tr')  # Find rows table\n",
    "for row in table_rows :\n",
    "    tds = row.find_all('td')    # Find cells table\n",
    "    row1 = [td.text.strip() for td in tds]\n",
    "    if (len(row1)==7) :   #since, there are rows have 7 cells and others have 5 cells.\n",
    "        row1 = row1[0:len(row)-1]\n",
    "        name_boroughs = row1[0]\n",
    "        dict_row = {}\n",
    "        for cell , col_name in zip( row1,columns_names_0) :\n",
    "            dict_row[col_name] = cell\n",
    "        df_Paris = df_Paris.append(dict_row, ignore_index=True)\n",
    "    if(len(row1)==5):   #since, there are rows have 7 cells and others have 5 cells.\n",
    "        dict_row = {}\n",
    "        dict_row[columns_names_0[0]] = name_boroughs\n",
    "        for cell , col_name in zip( row1,columns_names_0[1:]) :\n",
    "            dict_row[col_name] = cell    \n",
    "        df_Paris = df_Paris.append(dict_row, ignore_index=True)"
   ]
  },
  {
   "cell_type": "code",
   "execution_count": 23,
   "metadata": {},
   "outputs": [
    {
     "data": {
      "text/html": [
       "<div>\n",
       "<style scoped>\n",
       "    .dataframe tbody tr th:only-of-type {\n",
       "        vertical-align: middle;\n",
       "    }\n",
       "\n",
       "    .dataframe tbody tr th {\n",
       "        vertical-align: top;\n",
       "    }\n",
       "\n",
       "    .dataframe thead th {\n",
       "        text-align: right;\n",
       "    }\n",
       "</style>\n",
       "<table border=\"1\" class=\"dataframe\">\n",
       "  <thead>\n",
       "    <tr style=\"text-align: right;\">\n",
       "      <th></th>\n",
       "      <th>borough</th>\n",
       "      <th>Rank</th>\n",
       "      <th>Neighborhood</th>\n",
       "      <th>Population</th>\n",
       "      <th>Area</th>\n",
       "      <th>Density</th>\n",
       "    </tr>\n",
       "  </thead>\n",
       "  <tbody>\n",
       "    <tr>\n",
       "      <th>0</th>\n",
       "      <td>1er arrondissementdit « du Louvre »</td>\n",
       "      <td>1er</td>\n",
       "      <td>Saint-Germain-l'Auxerrois</td>\n",
       "      <td>1 672</td>\n",
       "      <td>86,9</td>\n",
       "      <td>1 924</td>\n",
       "    </tr>\n",
       "    <tr>\n",
       "      <th>1</th>\n",
       "      <td>1er arrondissementdit « du Louvre »</td>\n",
       "      <td>2e</td>\n",
       "      <td>Halles</td>\n",
       "      <td>8 984</td>\n",
       "      <td>41,2</td>\n",
       "      <td>21 806</td>\n",
       "    </tr>\n",
       "    <tr>\n",
       "      <th>2</th>\n",
       "      <td>1er arrondissementdit « du Louvre »</td>\n",
       "      <td>3e</td>\n",
       "      <td>Palais-Royal</td>\n",
       "      <td>3 195</td>\n",
       "      <td>27,4</td>\n",
       "      <td>11 661</td>\n",
       "    </tr>\n",
       "    <tr>\n",
       "      <th>3</th>\n",
       "      <td>1er arrondissementdit « du Louvre »</td>\n",
       "      <td>4e</td>\n",
       "      <td>Place-Vendôme</td>\n",
       "      <td>3 044</td>\n",
       "      <td>26,9</td>\n",
       "      <td>11 316</td>\n",
       "    </tr>\n",
       "    <tr>\n",
       "      <th>4</th>\n",
       "      <td>2e arrondissementdit « de la Bourse »</td>\n",
       "      <td>5e</td>\n",
       "      <td>Gaillon</td>\n",
       "      <td>1 345</td>\n",
       "      <td>18,8</td>\n",
       "      <td>7 154</td>\n",
       "    </tr>\n",
       "  </tbody>\n",
       "</table>\n",
       "</div>"
      ],
      "text/plain": [
       "                                 borough Rank               Neighborhood  \\\n",
       "0    1er arrondissementdit « du Louvre »  1er  Saint-Germain-l'Auxerrois   \n",
       "1    1er arrondissementdit « du Louvre »   2e                     Halles   \n",
       "2    1er arrondissementdit « du Louvre »   3e               Palais-Royal   \n",
       "3    1er arrondissementdit « du Louvre »   4e              Place-Vendôme   \n",
       "4  2e arrondissementdit « de la Bourse »   5e                    Gaillon   \n",
       "\n",
       "  Population  Area Density  \n",
       "0      1 672  86,9   1 924  \n",
       "1      8 984  41,2  21 806  \n",
       "2      3 195  27,4  11 661  \n",
       "3      3 044  26,9  11 316  \n",
       "4      1 345  18,8   7 154  "
      ]
     },
     "execution_count": 23,
     "metadata": {},
     "output_type": "execute_result"
    }
   ],
   "source": [
    "df_Paris.head()"
   ]
  },
  {
   "cell_type": "markdown",
   "metadata": {},
   "source": [
    "Ckeck the number of Neighborhoods and boroughs"
   ]
  },
  {
   "cell_type": "code",
   "execution_count": 26,
   "metadata": {},
   "outputs": [
    {
     "data": {
      "text/plain": [
       "(80, 6)"
      ]
     },
     "execution_count": 26,
     "metadata": {},
     "output_type": "execute_result"
    }
   ],
   "source": [
    "df_Paris.shape"
   ]
  },
  {
   "cell_type": "markdown",
   "metadata": {},
   "source": [
    "Get Latitude and Longitude For each Neighborhood, to do this , we will extract the link of each Neighborhood in the wiki table, and  go to each link in order to extract the coordinates Geographics"
   ]
  },
  {
   "cell_type": "code",
   "execution_count": 27,
   "metadata": {},
   "outputs": [],
   "source": [
    "def get_latitude_longitude (location) :    # location is the name of a neighborhood \n",
    "    location = re.split('\\(',location)[0].strip()\n",
    "    #print(location.strip())\n",
    "    link = soup.find('a',text=location).get('href') #extract the link from the content page\n",
    "    #soup.find('a',text='Acton').get()\n",
    "    link = 'https://fr.wikipedia.org'+link\n",
    "    \n",
    "    content = requests.get(link).text\n",
    "    soup2 = BeautifulSoup(content,'lxml')\n",
    "    coor = soup2.find('span',{'class':'noprint'})\n",
    "    long = float(coor.a['data-lon'])\n",
    "    lat = float(coor.a['data-lat'])\n",
    "    return pd.Series((long,lat))"
   ]
  },
  {
   "cell_type": "markdown",
   "metadata": {},
   "source": [
    "Test Function for \"Palais-Royal\" neighborhood "
   ]
  },
  {
   "cell_type": "code",
   "execution_count": 30,
   "metadata": {},
   "outputs": [
    {
     "data": {
      "text/plain": [
       "0     2.337749\n",
       "1    48.864912\n",
       "dtype: float64"
      ]
     },
     "execution_count": 30,
     "metadata": {},
     "output_type": "execute_result"
    }
   ],
   "source": [
    "get_latitude_longitude('Palais-Royal')"
   ]
  },
  {
   "cell_type": "markdown",
   "metadata": {},
   "source": [
    "Get all Longitudes,Latitudes of neighborhoods."
   ]
  },
  {
   "cell_type": "code",
   "execution_count": 31,
   "metadata": {},
   "outputs": [],
   "source": [
    "df_Paris [['Longitude','Latitude']] =  df_Paris.apply(lambda row: get_latitude_longitude(row['Neighborhood']),axis=1)"
   ]
  },
  {
   "cell_type": "code",
   "execution_count": 32,
   "metadata": {},
   "outputs": [
    {
     "data": {
      "text/html": [
       "<div>\n",
       "<style scoped>\n",
       "    .dataframe tbody tr th:only-of-type {\n",
       "        vertical-align: middle;\n",
       "    }\n",
       "\n",
       "    .dataframe tbody tr th {\n",
       "        vertical-align: top;\n",
       "    }\n",
       "\n",
       "    .dataframe thead th {\n",
       "        text-align: right;\n",
       "    }\n",
       "</style>\n",
       "<table border=\"1\" class=\"dataframe\">\n",
       "  <thead>\n",
       "    <tr style=\"text-align: right;\">\n",
       "      <th></th>\n",
       "      <th>borough</th>\n",
       "      <th>Rank</th>\n",
       "      <th>Neighborhood</th>\n",
       "      <th>Population</th>\n",
       "      <th>Area</th>\n",
       "      <th>Density</th>\n",
       "      <th>Longitude</th>\n",
       "      <th>Latitude</th>\n",
       "    </tr>\n",
       "  </thead>\n",
       "  <tbody>\n",
       "    <tr>\n",
       "      <th>0</th>\n",
       "      <td>1er arrondissementdit « du Louvre »</td>\n",
       "      <td>1er</td>\n",
       "      <td>Saint-Germain-l'Auxerrois</td>\n",
       "      <td>1 672</td>\n",
       "      <td>86,9</td>\n",
       "      <td>1 924</td>\n",
       "      <td>2.340195</td>\n",
       "      <td>48.860112</td>\n",
       "    </tr>\n",
       "    <tr>\n",
       "      <th>1</th>\n",
       "      <td>1er arrondissementdit « du Louvre »</td>\n",
       "      <td>2e</td>\n",
       "      <td>Halles</td>\n",
       "      <td>8 984</td>\n",
       "      <td>41,2</td>\n",
       "      <td>21 806</td>\n",
       "      <td>2.344744</td>\n",
       "      <td>48.862541</td>\n",
       "    </tr>\n",
       "    <tr>\n",
       "      <th>2</th>\n",
       "      <td>1er arrondissementdit « du Louvre »</td>\n",
       "      <td>3e</td>\n",
       "      <td>Palais-Royal</td>\n",
       "      <td>3 195</td>\n",
       "      <td>27,4</td>\n",
       "      <td>11 661</td>\n",
       "      <td>2.337749</td>\n",
       "      <td>48.864912</td>\n",
       "    </tr>\n",
       "    <tr>\n",
       "      <th>3</th>\n",
       "      <td>1er arrondissementdit « du Louvre »</td>\n",
       "      <td>4e</td>\n",
       "      <td>Place-Vendôme</td>\n",
       "      <td>3 044</td>\n",
       "      <td>26,9</td>\n",
       "      <td>11 316</td>\n",
       "      <td>2.329402</td>\n",
       "      <td>48.867495</td>\n",
       "    </tr>\n",
       "    <tr>\n",
       "      <th>4</th>\n",
       "      <td>2e arrondissementdit « de la Bourse »</td>\n",
       "      <td>5e</td>\n",
       "      <td>Gaillon</td>\n",
       "      <td>1 345</td>\n",
       "      <td>18,8</td>\n",
       "      <td>7 154</td>\n",
       "      <td>2.332867</td>\n",
       "      <td>48.869083</td>\n",
       "    </tr>\n",
       "  </tbody>\n",
       "</table>\n",
       "</div>"
      ],
      "text/plain": [
       "                                 borough Rank               Neighborhood  \\\n",
       "0    1er arrondissementdit « du Louvre »  1er  Saint-Germain-l'Auxerrois   \n",
       "1    1er arrondissementdit « du Louvre »   2e                     Halles   \n",
       "2    1er arrondissementdit « du Louvre »   3e               Palais-Royal   \n",
       "3    1er arrondissementdit « du Louvre »   4e              Place-Vendôme   \n",
       "4  2e arrondissementdit « de la Bourse »   5e                    Gaillon   \n",
       "\n",
       "  Population  Area Density  Longitude   Latitude  \n",
       "0      1 672  86,9   1 924   2.340195  48.860112  \n",
       "1      8 984  41,2  21 806   2.344744  48.862541  \n",
       "2      3 195  27,4  11 661   2.337749  48.864912  \n",
       "3      3 044  26,9  11 316   2.329402  48.867495  \n",
       "4      1 345  18,8   7 154   2.332867  48.869083  "
      ]
     },
     "execution_count": 32,
     "metadata": {},
     "output_type": "execute_result"
    }
   ],
   "source": [
    "df_Paris.head()"
   ]
  },
  {
   "cell_type": "markdown",
   "metadata": {},
   "source": [
    "Check number of invalid cells in table."
   ]
  },
  {
   "cell_type": "code",
   "execution_count": 34,
   "metadata": {},
   "outputs": [
    {
     "data": {
      "text/plain": [
       "0"
      ]
     },
     "execution_count": 34,
     "metadata": {},
     "output_type": "execute_result"
    }
   ],
   "source": [
    "len(df_Paris[pd.isnull(df_Paris).any(axis=1)])"
   ]
  },
  {
   "cell_type": "markdown",
   "metadata": {},
   "source": [
    "Check if there are Neighborhoods that have same coordinates geographic ."
   ]
  },
  {
   "cell_type": "code",
   "execution_count": 38,
   "metadata": {},
   "outputs": [
    {
     "data": {
      "text/plain": [
       "0"
      ]
     },
     "execution_count": 38,
     "metadata": {},
     "output_type": "execute_result"
    }
   ],
   "source": [
    "len(df_Paris[df_Paris.duplicated(['Longitude','Latitude'],keep=False)])"
   ]
  },
  {
   "cell_type": "markdown",
   "metadata": {},
   "source": [
    "Get the coordinate geographic of the city center."
   ]
  },
  {
   "cell_type": "code",
   "execution_count": 60,
   "metadata": {},
   "outputs": [],
   "source": [
    "from geopy.geocoders import Nominatim"
   ]
  },
  {
   "cell_type": "code",
   "execution_count": 61,
   "metadata": {},
   "outputs": [
    {
     "name": "stdout",
     "output_type": "stream",
     "text": [
      "The geograpical coordinate of Paris City are 48.8566101, 2.3514992.\n"
     ]
    }
   ],
   "source": [
    "address = 'Paris'\n",
    "\n",
    "geolocator = Nominatim(user_agent=\"ny_explorer\")\n",
    "location = geolocator.geocode(address)\n",
    "latitude = location.latitude\n",
    "longitude = location.longitude\n",
    "print('The geograpical coordinate of Paris City are {}, {}.'.format(latitude, longitude))"
   ]
  },
  {
   "cell_type": "markdown",
   "metadata": {},
   "source": [
    "Let's see the map of Paris city with its neighborhoods "
   ]
  },
  {
   "cell_type": "code",
   "execution_count": 43,
   "metadata": {},
   "outputs": [],
   "source": [
    "import folium"
   ]
  },
  {
   "cell_type": "code",
   "execution_count": 45,
   "metadata": {},
   "outputs": [
    {
     "data": {
      "text/html": [
       "<div style=\"width:100%;\"><div style=\"position:relative;width:100%;height:0;padding-bottom:60%;\"><iframe src=\"data:text/html;charset=utf-8;base64,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\" style=\"position:absolute;width:100%;height:100%;left:0;top:0;border:none !important;\" allowfullscreen webkitallowfullscreen mozallowfullscreen></iframe></div></div>"
      ],
      "text/plain": [
       "<folium.folium.Map at 0x7f875a63b358>"
      ]
     },
     "execution_count": 45,
     "metadata": {},
     "output_type": "execute_result"
    }
   ],
   "source": [
    "# create map of Paris using latitude and longitude values\n",
    "map_paris = folium.Map(location=[latitude, longitude], zoom_start=12)\n",
    "\n",
    "# add markers to map\n",
    "for lat, lng, borough, neighborhood in zip(df_Paris['Latitude'], df_Paris['Longitude'], df_Paris['borough'], df_Paris['Neighborhood']):\n",
    "    label = '{}, {}'.format(neighborhood, borough)\n",
    "    label = folium.Popup(label, parse_html=True)\n",
    "    folium.CircleMarker(\n",
    "        [lat, lng],\n",
    "        radius=5,\n",
    "        popup=label,\n",
    "        color='blue',\n",
    "        fill=True,\n",
    "        fill_color='#3186cc',\n",
    "        fill_opacity=0.7,\n",
    "        parse_html=False).add_to(map_paris)  \n",
    "    \n",
    "map_paris"
   ]
  },
  {
   "cell_type": "markdown",
   "metadata": {},
   "source": [
    "Calculate in km the distance of each neighborhood from the center city."
   ]
  },
  {
   "cell_type": "code",
   "execution_count": 47,
   "metadata": {},
   "outputs": [],
   "source": [
    "import geopy.distance\n",
    "def distance_2_points(long1,lat1,long2,lat2) :\n",
    "    coords_1 = (lat1, long1)\n",
    "    coords_2 = (lat2, long2)\n",
    "    \n",
    "    return(geopy.distance.vincenty(coords_1, coords_2).km)"
   ]
  },
  {
   "cell_type": "markdown",
   "metadata": {},
   "source": [
    "Save table "
   ]
  },
  {
   "cell_type": "code",
   "execution_count": null,
   "metadata": {},
   "outputs": [],
   "source": [
    "df_Paris.head()"
   ]
  },
  {
   "cell_type": "code",
   "execution_count": 54,
   "metadata": {},
   "outputs": [],
   "source": [
    "df_Paris.to_csv('List_neighbourhood_paris_city.csv',index=False)"
   ]
  },
  {
   "cell_type": "markdown",
   "metadata": {},
   "source": [
    "### 2. Collect venues of Neighborhood"
   ]
  },
  {
   "cell_type": "markdown",
   "metadata": {},
   "source": [
    "<a id='item1.2'></a>"
   ]
  },
  {
   "cell_type": "code",
   "execution_count": 192,
   "metadata": {},
   "outputs": [],
   "source": [
    "df_Paris = pd.read_csv('List_neighbourhood_paris_city.csv')"
   ]
  },
  {
   "cell_type": "markdown",
   "metadata": {},
   "source": [
    "I am going to use Foursquare API to collect venues data in each neighborhood Paris."
   ]
  },
  {
   "cell_type": "markdown",
   "metadata": {},
   "source": [
    "To do this, we must neighborhoods names !!!"
   ]
  },
  {
   "cell_type": "code",
   "execution_count": 4,
   "metadata": {},
   "outputs": [
    {
     "data": {
      "text/html": [
       "<div>\n",
       "<style scoped>\n",
       "    .dataframe tbody tr th:only-of-type {\n",
       "        vertical-align: middle;\n",
       "    }\n",
       "\n",
       "    .dataframe tbody tr th {\n",
       "        vertical-align: top;\n",
       "    }\n",
       "\n",
       "    .dataframe thead th {\n",
       "        text-align: right;\n",
       "    }\n",
       "</style>\n",
       "<table border=\"1\" class=\"dataframe\">\n",
       "  <thead>\n",
       "    <tr style=\"text-align: right;\">\n",
       "      <th></th>\n",
       "      <th>borough</th>\n",
       "      <th>Rank</th>\n",
       "      <th>Neighborhood</th>\n",
       "      <th>Population</th>\n",
       "      <th>Area</th>\n",
       "      <th>Density</th>\n",
       "      <th>Longitude</th>\n",
       "      <th>Latitude</th>\n",
       "      <th>Distance_center</th>\n",
       "    </tr>\n",
       "  </thead>\n",
       "  <tbody>\n",
       "    <tr>\n",
       "      <th>0</th>\n",
       "      <td>1er arrondissementdit « du Louvre »</td>\n",
       "      <td>1er</td>\n",
       "      <td>Saint-Germain-l'Auxerrois</td>\n",
       "      <td>1 672</td>\n",
       "      <td>86,9</td>\n",
       "      <td>1 924</td>\n",
       "      <td>2.340195</td>\n",
       "      <td>48.860112</td>\n",
       "      <td>0.916353</td>\n",
       "    </tr>\n",
       "    <tr>\n",
       "      <th>1</th>\n",
       "      <td>1er arrondissementdit « du Louvre »</td>\n",
       "      <td>2e</td>\n",
       "      <td>Halles</td>\n",
       "      <td>8 984</td>\n",
       "      <td>41,2</td>\n",
       "      <td>21 806</td>\n",
       "      <td>2.344744</td>\n",
       "      <td>48.862541</td>\n",
       "      <td>0.824991</td>\n",
       "    </tr>\n",
       "    <tr>\n",
       "      <th>2</th>\n",
       "      <td>1er arrondissementdit « du Louvre »</td>\n",
       "      <td>3e</td>\n",
       "      <td>Palais-Royal</td>\n",
       "      <td>3 195</td>\n",
       "      <td>27,4</td>\n",
       "      <td>11 661</td>\n",
       "      <td>2.337749</td>\n",
       "      <td>48.864912</td>\n",
       "      <td>1.367567</td>\n",
       "    </tr>\n",
       "  </tbody>\n",
       "</table>\n",
       "</div>"
      ],
      "text/plain": [
       "                               borough Rank               Neighborhood  \\\n",
       "0  1er arrondissementdit « du Louvre »  1er  Saint-Germain-l'Auxerrois   \n",
       "1  1er arrondissementdit « du Louvre »   2e                     Halles   \n",
       "2  1er arrondissementdit « du Louvre »   3e               Palais-Royal   \n",
       "\n",
       "  Population  Area Density  Longitude   Latitude  Distance_center  \n",
       "0      1 672  86,9   1 924   2.340195  48.860112         0.916353  \n",
       "1      8 984  41,2  21 806   2.344744  48.862541         0.824991  \n",
       "2      3 195  27,4  11 661   2.337749  48.864912         1.367567  "
      ]
     },
     "execution_count": 4,
     "metadata": {},
     "output_type": "execute_result"
    }
   ],
   "source": [
    "df_Paris.head(3)"
   ]
  },
  {
   "cell_type": "code",
   "execution_count": 5,
   "metadata": {},
   "outputs": [],
   "source": [
    "import requests"
   ]
  },
  {
   "cell_type": "markdown",
   "metadata": {},
   "source": [
    "We must insert some personal information to access to API"
   ]
  },
  {
   "cell_type": "code",
   "execution_count": 7,
   "metadata": {},
   "outputs": [],
   "source": [
    "CLIENT_ID = '' # your Foursquare ID\n",
    "CLIENT_SECRET = '' # your Foursquare Secret\n",
    "VERSION = '' # Foursquare API version\n",
    "\n",
    "print('Your credentails:')\n",
    "print('CLIENT_ID: ' + CLIENT_ID)\n",
    "print('CLIENT_SECRET:' + CLIENT_SECRET)"
   ]
  },
  {
   "cell_type": "code",
   "execution_count": null,
   "metadata": {},
   "outputs": [],
   "source": []
  },
  {
   "cell_type": "markdown",
   "metadata": {},
   "source": [
    "A Function to get all informations about Neighborhoods venues"
   ]
  },
  {
   "cell_type": "code",
   "execution_count": 9,
   "metadata": {},
   "outputs": [],
   "source": [
    "def getNearbyVenues(names, latitudes, longitudes, radius=500):\n",
    "    \n",
    "    venues_list=[]\n",
    "    for name, lat, lng in zip(names, latitudes, longitudes):\n",
    "        print(name)\n",
    "            \n",
    "        # create the API request URL\n",
    "        url = 'https://api.foursquare.com/v2/venues/explore?&client_id={}&client_secret={}&v={}&ll={},{}&radius={}&limit={}'.format(\n",
    "            CLIENT_ID, \n",
    "            CLIENT_SECRET, \n",
    "            VERSION, \n",
    "            lat, \n",
    "            lng, \n",
    "            radius, \n",
    "            LIMIT)\n",
    "            \n",
    "        # make the GET request\n",
    "        results = requests.get(url).json()[\"response\"]['groups'][0]['items']\n",
    "        \n",
    "        # return only relevant information for each nearby venue\n",
    "        venues_list.append([(\n",
    "            name, \n",
    "            lat, \n",
    "            lng, \n",
    "            v['venue']['name'], \n",
    "            v['venue']['location']['lat'], \n",
    "            v['venue']['location']['lng'],\n",
    "            v['venue']['location']['country'],\n",
    "            v['venue']['categories'][0]['name']) for v in results])\n",
    "\n",
    "    nearby_venues = pd.DataFrame([item for venue_list in venues_list for item in venue_list])\n",
    "    nearby_venues.columns = ['Neighborhood', \n",
    "                  'Neighborhood Latitude', \n",
    "                  'Neighborhood Longitude', \n",
    "                  'Venue', \n",
    "                  'Venue Latitude', \n",
    "                  'Venue Longitude',\n",
    "                  'Venue Country',\n",
    "                  'Venue Category']\n",
    "    \n",
    "    return(nearby_venues)"
   ]
  },
  {
   "cell_type": "code",
   "execution_count": 69,
   "metadata": {},
   "outputs": [
    {
     "name": "stdout",
     "output_type": "stream",
     "text": [
      "Saint-Germain-l'Auxerrois\n",
      "Halles\n",
      "Palais-Royal\n",
      "Place-Vendôme\n",
      "Gaillon\n",
      "Vivienne\n",
      "Mail\n",
      "Bonne-Nouvelle\n",
      "Arts-et-Métiers\n",
      "Enfants-Rouges\n",
      "Archives\n",
      "Sainte-Avoye\n",
      "Saint-Merri\n",
      "Saint-Gervais\n",
      "Arsenal\n",
      "Notre-Dame\n",
      "Saint-Victor\n",
      "Jardin-des-Plantes\n",
      "Val-de-Grâce\n",
      "Sorbonne\n",
      "Monnaie\n",
      "Odéon\n",
      "Notre-Dame-des-Champs\n",
      "Saint-Germain-des-Prés\n",
      "Saint-Thomas-d'Aquin\n",
      "Invalides\n",
      "École-Militaire\n",
      "Gros-Caillou\n",
      "Champs-Élysées\n",
      "Faubourg-du-Roule\n",
      "Madeleine\n",
      "Europe\n",
      "Saint-Georges\n",
      "Chaussée-d'Antin\n",
      "Faubourg-Montmartre\n",
      "Rochechouart\n",
      "Saint-Vincent-de-Paul\n",
      "Porte-Saint-Denis\n",
      "Porte-Saint-Martin\n",
      "Hôpital-Saint-Louis\n",
      "Folie-Méricourt\n",
      "Saint-Ambroise\n",
      "Roquette\n",
      "Sainte-Marguerite\n",
      "Bel-Air\n",
      "Picpus\n",
      "Bercy\n",
      "Quinze-Vingts\n",
      "Salpêtrière\n",
      "Gare\n",
      "Maison-Blanche\n",
      "Croulebarbe\n",
      "Montparnasse\n",
      "Parc-de-Montsouris\n",
      "Petit-Montrouge\n",
      "Plaisance\n",
      "Saint-Lambert\n",
      "Necker\n",
      "Grenelle\n",
      "Javel\n",
      "Auteuil\n",
      "Muette\n",
      "Porte-Dauphine\n",
      "Chaillot\n",
      "Ternes\n",
      "Plaine-de-Monceaux\n",
      "Batignolles\n",
      "Épinettes\n",
      "Grandes-Carrières\n",
      "Clignancourt\n",
      "Goutte-d'Or\n",
      "Chapelle\n",
      "Villette\n",
      "Pont-de-Flandre\n",
      "Amérique\n",
      "Combat\n",
      "Belleville\n",
      "Saint-Fargeau\n",
      "Père-Lachaise\n",
      "Charonne\n"
     ]
    }
   ],
   "source": [
    "LIMIT = 100\n",
    "df_venues = getNearbyVenues(names=df_Paris['Neighborhood'],\n",
    "                latitudes=df_Paris['Latitude'],\n",
    "                longitudes=df_Paris['Longitude'])"
   ]
  },
  {
   "cell_type": "code",
   "execution_count": 70,
   "metadata": {},
   "outputs": [],
   "source": [
    "df_venues.to_csv('List_venues_paris.csv',index=False)"
   ]
  },
  {
   "cell_type": "code",
   "execution_count": 2,
   "metadata": {},
   "outputs": [],
   "source": [
    "df_venues = pd.read_csv('List_venues_paris.csv')"
   ]
  },
  {
   "cell_type": "markdown",
   "metadata": {},
   "source": [
    " Get data about Foursqare Categories"
   ]
  },
  {
   "cell_type": "markdown",
   "metadata": {},
   "source": [
    "Some venues information"
   ]
  },
  {
   "cell_type": "code",
   "execution_count": 3,
   "metadata": {},
   "outputs": [
    {
     "data": {
      "text/html": [
       "<div>\n",
       "<style scoped>\n",
       "    .dataframe tbody tr th:only-of-type {\n",
       "        vertical-align: middle;\n",
       "    }\n",
       "\n",
       "    .dataframe tbody tr th {\n",
       "        vertical-align: top;\n",
       "    }\n",
       "\n",
       "    .dataframe thead th {\n",
       "        text-align: right;\n",
       "    }\n",
       "</style>\n",
       "<table border=\"1\" class=\"dataframe\">\n",
       "  <thead>\n",
       "    <tr style=\"text-align: right;\">\n",
       "      <th></th>\n",
       "      <th>Neighborhood</th>\n",
       "      <th>Neighborhood Latitude</th>\n",
       "      <th>Neighborhood Longitude</th>\n",
       "      <th>Venue</th>\n",
       "      <th>Venue Latitude</th>\n",
       "      <th>Venue Longitude</th>\n",
       "      <th>Venue Country</th>\n",
       "      <th>Venue Category</th>\n",
       "    </tr>\n",
       "  </thead>\n",
       "  <tbody>\n",
       "    <tr>\n",
       "      <th>0</th>\n",
       "      <td>Saint-Germain-l'Auxerrois</td>\n",
       "      <td>48.860112</td>\n",
       "      <td>2.340195</td>\n",
       "      <td>Cour Carrée du Louvre</td>\n",
       "      <td>48.860360</td>\n",
       "      <td>2.338543</td>\n",
       "      <td>France</td>\n",
       "      <td>Pedestrian Plaza</td>\n",
       "    </tr>\n",
       "    <tr>\n",
       "      <th>1</th>\n",
       "      <td>Saint-Germain-l'Auxerrois</td>\n",
       "      <td>48.860112</td>\n",
       "      <td>2.340195</td>\n",
       "      <td>Place du Louvre</td>\n",
       "      <td>48.859841</td>\n",
       "      <td>2.340822</td>\n",
       "      <td>France</td>\n",
       "      <td>Plaza</td>\n",
       "    </tr>\n",
       "    <tr>\n",
       "      <th>2</th>\n",
       "      <td>Saint-Germain-l'Auxerrois</td>\n",
       "      <td>48.860112</td>\n",
       "      <td>2.340195</td>\n",
       "      <td>Le Fumoir</td>\n",
       "      <td>48.860341</td>\n",
       "      <td>2.340647</td>\n",
       "      <td>France</td>\n",
       "      <td>Cocktail Bar</td>\n",
       "    </tr>\n",
       "    <tr>\n",
       "      <th>3</th>\n",
       "      <td>Saint-Germain-l'Auxerrois</td>\n",
       "      <td>48.860112</td>\n",
       "      <td>2.340195</td>\n",
       "      <td>Église Saint-Germain l'Auxerrois</td>\n",
       "      <td>48.859887</td>\n",
       "      <td>2.340617</td>\n",
       "      <td>France</td>\n",
       "      <td>Church</td>\n",
       "    </tr>\n",
       "    <tr>\n",
       "      <th>4</th>\n",
       "      <td>Saint-Germain-l'Auxerrois</td>\n",
       "      <td>48.860112</td>\n",
       "      <td>2.340195</td>\n",
       "      <td>La Régalade Saint-Honoré</td>\n",
       "      <td>48.861620</td>\n",
       "      <td>2.341749</td>\n",
       "      <td>France</td>\n",
       "      <td>French Restaurant</td>\n",
       "    </tr>\n",
       "  </tbody>\n",
       "</table>\n",
       "</div>"
      ],
      "text/plain": [
       "                Neighborhood  Neighborhood Latitude  Neighborhood Longitude  \\\n",
       "0  Saint-Germain-l'Auxerrois              48.860112                2.340195   \n",
       "1  Saint-Germain-l'Auxerrois              48.860112                2.340195   \n",
       "2  Saint-Germain-l'Auxerrois              48.860112                2.340195   \n",
       "3  Saint-Germain-l'Auxerrois              48.860112                2.340195   \n",
       "4  Saint-Germain-l'Auxerrois              48.860112                2.340195   \n",
       "\n",
       "                              Venue  Venue Latitude  Venue Longitude  \\\n",
       "0             Cour Carrée du Louvre       48.860360         2.338543   \n",
       "1                   Place du Louvre       48.859841         2.340822   \n",
       "2                         Le Fumoir       48.860341         2.340647   \n",
       "3  Église Saint-Germain l'Auxerrois       48.859887         2.340617   \n",
       "4          La Régalade Saint-Honoré       48.861620         2.341749   \n",
       "\n",
       "  Venue Country     Venue Category  \n",
       "0        France   Pedestrian Plaza  \n",
       "1        France              Plaza  \n",
       "2        France       Cocktail Bar  \n",
       "3        France             Church  \n",
       "4        France  French Restaurant  "
      ]
     },
     "execution_count": 3,
     "metadata": {},
     "output_type": "execute_result"
    }
   ],
   "source": [
    "df_venues.head()"
   ]
  },
  {
   "cell_type": "code",
   "execution_count": null,
   "metadata": {},
   "outputs": [],
   "source": [
    "\n",
    "url = 'https://api.foursquare.com/v2/venues/categories?&client_id={}&client_secret={}&v={}'.format(\n",
    "            CLIENT_ID, \n",
    "            CLIENT_SECRET, \n",
    "            VERSION)\n",
    "            \n",
    "# make the GET request\n",
    "results = requests.get(url).json()\n",
    "cats = results['response']['categories']\n"
   ]
  },
  {
   "cell_type": "markdown",
   "metadata": {},
   "source": [
    "See First Category and its sub-categories !!!"
   ]
  },
  {
   "cell_type": "code",
   "execution_count": 14,
   "metadata": {},
   "outputs": [
    {
     "data": {
      "text/plain": [
       "{'id': '4d4b7104d754a06370d81259',\n",
       " 'name': 'Arts & Entertainment',\n",
       " 'pluralName': 'Arts & Entertainment',\n",
       " 'shortName': 'Arts & Entertainment',\n",
       " 'icon': {'prefix': 'https://ss3.4sqi.net/img/categories_v2/arts_entertainment/default_',\n",
       "  'suffix': '.png'},\n",
       " 'categories': [{'id': '56aa371be4b08b9a8d5734db',\n",
       "   'name': 'Amphitheater',\n",
       "   'pluralName': 'Amphitheaters',\n",
       "   'shortName': 'Amphitheater',\n",
       "   'icon': {'prefix': 'https://ss3.4sqi.net/img/categories_v2/arts_entertainment/default_',\n",
       "    'suffix': '.png'},\n",
       "   'categories': []},\n",
       "  {'id': '4fceea171983d5d06c3e9823',\n",
       "   'name': 'Aquarium',\n",
       "   'pluralName': 'Aquariums',\n",
       "   'shortName': 'Aquarium',\n",
       "   'icon': {'prefix': 'https://ss3.4sqi.net/img/categories_v2/arts_entertainment/aquarium_',\n",
       "    'suffix': '.png'},\n",
       "   'categories': []},\n",
       "  {'id': '4bf58dd8d48988d1e1931735',\n",
       "   'name': 'Arcade',\n",
       "   'pluralName': 'Arcades',\n",
       "   'shortName': 'Arcade',\n",
       "   'icon': {'prefix': 'https://ss3.4sqi.net/img/categories_v2/arts_entertainment/arcade_',\n",
       "    'suffix': '.png'},\n",
       "   'categories': []},\n",
       "  {'id': '4bf58dd8d48988d1e2931735',\n",
       "   'name': 'Art Gallery',\n",
       "   'pluralName': 'Art Galleries',\n",
       "   'shortName': 'Art Gallery',\n",
       "   'icon': {'prefix': 'https://ss3.4sqi.net/img/categories_v2/arts_entertainment/artgallery_',\n",
       "    'suffix': '.png'},\n",
       "   'categories': []},\n",
       "  {'id': '4bf58dd8d48988d1e4931735',\n",
       "   'name': 'Bowling Alley',\n",
       "   'pluralName': 'Bowling Alleys',\n",
       "   'shortName': 'Bowling Alley',\n",
       "   'icon': {'prefix': 'https://ss3.4sqi.net/img/categories_v2/arts_entertainment/bowling_',\n",
       "    'suffix': '.png'},\n",
       "   'categories': []},\n",
       "  {'id': '4bf58dd8d48988d17c941735',\n",
       "   'name': 'Casino',\n",
       "   'pluralName': 'Casinos',\n",
       "   'shortName': 'Casino',\n",
       "   'icon': {'prefix': 'https://ss3.4sqi.net/img/categories_v2/arts_entertainment/casino_',\n",
       "    'suffix': '.png'},\n",
       "   'categories': []},\n",
       "  {'id': '52e81612bcbc57f1066b79e7',\n",
       "   'name': 'Circus',\n",
       "   'pluralName': 'Circuses',\n",
       "   'shortName': 'Circus',\n",
       "   'icon': {'prefix': 'https://ss3.4sqi.net/img/categories_v2/arts_entertainment/default_',\n",
       "    'suffix': '.png'},\n",
       "   'categories': []},\n",
       "  {'id': '4bf58dd8d48988d18e941735',\n",
       "   'name': 'Comedy Club',\n",
       "   'pluralName': 'Comedy Clubs',\n",
       "   'shortName': 'Comedy Club',\n",
       "   'icon': {'prefix': 'https://ss3.4sqi.net/img/categories_v2/arts_entertainment/comedyclub_',\n",
       "    'suffix': '.png'},\n",
       "   'categories': []},\n",
       "  {'id': '5032792091d4c4b30a586d5c',\n",
       "   'name': 'Concert Hall',\n",
       "   'pluralName': 'Concert Halls',\n",
       "   'shortName': 'Concert Hall',\n",
       "   'icon': {'prefix': 'https://ss3.4sqi.net/img/categories_v2/arts_entertainment/musicvenue_',\n",
       "    'suffix': '.png'},\n",
       "   'categories': []},\n",
       "  {'id': '52e81612bcbc57f1066b79ef',\n",
       "   'name': 'Country Dance Club',\n",
       "   'pluralName': 'Country Dance Clubs',\n",
       "   'shortName': 'Country Dance Club',\n",
       "   'icon': {'prefix': 'https://ss3.4sqi.net/img/categories_v2/arts_entertainment/performingarts_dancestudio_',\n",
       "    'suffix': '.png'},\n",
       "   'categories': []},\n",
       "  {'id': '52e81612bcbc57f1066b79e8',\n",
       "   'name': 'Disc Golf',\n",
       "   'pluralName': 'Disc Golf Courses',\n",
       "   'shortName': 'Disc Golf',\n",
       "   'icon': {'prefix': 'https://ss3.4sqi.net/img/categories_v2/arts_entertainment/default_',\n",
       "    'suffix': '.png'},\n",
       "   'categories': []},\n",
       "  {'id': '56aa371be4b08b9a8d573532',\n",
       "   'name': 'Exhibit',\n",
       "   'pluralName': 'Exhibits',\n",
       "   'shortName': 'Exhibit',\n",
       "   'icon': {'prefix': 'https://ss3.4sqi.net/img/categories_v2/arts_entertainment/default_',\n",
       "    'suffix': '.png'},\n",
       "   'categories': []},\n",
       "  {'id': '4bf58dd8d48988d1f1931735',\n",
       "   'name': 'General Entertainment',\n",
       "   'pluralName': 'General Entertainment',\n",
       "   'shortName': 'Entertainment',\n",
       "   'icon': {'prefix': 'https://ss3.4sqi.net/img/categories_v2/arts_entertainment/default_',\n",
       "    'suffix': '.png'},\n",
       "   'categories': []},\n",
       "  {'id': '52e81612bcbc57f1066b79ea',\n",
       "   'name': 'Go Kart Track',\n",
       "   'pluralName': 'Go Kart Tracks',\n",
       "   'shortName': 'Go Kart',\n",
       "   'icon': {'prefix': 'https://ss3.4sqi.net/img/categories_v2/arts_entertainment/racetrack_',\n",
       "    'suffix': '.png'},\n",
       "   'categories': []},\n",
       "  {'id': '4deefb944765f83613cdba6e',\n",
       "   'name': 'Historic Site',\n",
       "   'pluralName': 'Historic Sites',\n",
       "   'shortName': 'Historic Site',\n",
       "   'icon': {'prefix': 'https://ss3.4sqi.net/img/categories_v2/arts_entertainment/historicsite_',\n",
       "    'suffix': '.png'},\n",
       "   'categories': []},\n",
       "  {'id': '5744ccdfe4b0c0459246b4bb',\n",
       "   'name': 'Karaoke Box',\n",
       "   'pluralName': 'Karaoke Boxes',\n",
       "   'shortName': 'Karaoke',\n",
       "   'icon': {'prefix': 'https://ss3.4sqi.net/img/categories_v2/nightlife/karaoke_',\n",
       "    'suffix': '.png'},\n",
       "   'categories': []},\n",
       "  {'id': '52e81612bcbc57f1066b79e6',\n",
       "   'name': 'Laser Tag',\n",
       "   'pluralName': 'Laser Tag Places',\n",
       "   'shortName': 'Laser Tag',\n",
       "   'icon': {'prefix': 'https://ss3.4sqi.net/img/categories_v2/arts_entertainment/default_',\n",
       "    'suffix': '.png'},\n",
       "   'categories': []},\n",
       "  {'id': '5642206c498e4bfca532186c',\n",
       "   'name': 'Memorial Site',\n",
       "   'pluralName': 'Memorial Sites',\n",
       "   'shortName': 'Memorial Site',\n",
       "   'icon': {'prefix': 'https://ss3.4sqi.net/img/categories_v2/arts_entertainment/historicsite_',\n",
       "    'suffix': '.png'},\n",
       "   'categories': []},\n",
       "  {'id': '52e81612bcbc57f1066b79eb',\n",
       "   'name': 'Mini Golf',\n",
       "   'pluralName': 'Mini Golf Courses',\n",
       "   'shortName': 'Mini Golf',\n",
       "   'icon': {'prefix': 'https://ss3.4sqi.net/img/categories_v2/parks_outdoors/golfcourse_',\n",
       "    'suffix': '.png'},\n",
       "   'categories': []},\n",
       "  {'id': '4bf58dd8d48988d17f941735',\n",
       "   'name': 'Movie Theater',\n",
       "   'pluralName': 'Movie Theaters',\n",
       "   'shortName': 'Movie Theater',\n",
       "   'icon': {'prefix': 'https://ss3.4sqi.net/img/categories_v2/arts_entertainment/movietheater_',\n",
       "    'suffix': '.png'},\n",
       "   'categories': [{'id': '56aa371be4b08b9a8d5734de',\n",
       "     'name': 'Drive-in Theater',\n",
       "     'pluralName': 'Drive-in Theaters',\n",
       "     'shortName': 'Drive-in Theater',\n",
       "     'icon': {'prefix': 'https://ss3.4sqi.net/img/categories_v2/arts_entertainment/movietheater_',\n",
       "      'suffix': '.png'},\n",
       "     'categories': []},\n",
       "    {'id': '4bf58dd8d48988d17e941735',\n",
       "     'name': 'Indie Movie Theater',\n",
       "     'pluralName': 'Indie Movie Theaters',\n",
       "     'shortName': 'Indie Movies',\n",
       "     'icon': {'prefix': 'https://ss3.4sqi.net/img/categories_v2/arts_entertainment/movietheater_',\n",
       "      'suffix': '.png'},\n",
       "     'categories': []},\n",
       "    {'id': '4bf58dd8d48988d180941735',\n",
       "     'name': 'Multiplex',\n",
       "     'pluralName': 'Multiplexes',\n",
       "     'shortName': 'Cineplex',\n",
       "     'icon': {'prefix': 'https://ss3.4sqi.net/img/categories_v2/arts_entertainment/movietheater_',\n",
       "      'suffix': '.png'},\n",
       "     'categories': []}]},\n",
       "  {'id': '4bf58dd8d48988d181941735',\n",
       "   'name': 'Museum',\n",
       "   'pluralName': 'Museums',\n",
       "   'shortName': 'Museum',\n",
       "   'icon': {'prefix': 'https://ss3.4sqi.net/img/categories_v2/arts_entertainment/museum_',\n",
       "    'suffix': '.png'},\n",
       "   'categories': [{'id': '4bf58dd8d48988d18f941735',\n",
       "     'name': 'Art Museum',\n",
       "     'pluralName': 'Art Museums',\n",
       "     'shortName': 'Art Museum',\n",
       "     'icon': {'prefix': 'https://ss3.4sqi.net/img/categories_v2/arts_entertainment/museum_art_',\n",
       "      'suffix': '.png'},\n",
       "     'categories': []},\n",
       "    {'id': '559acbe0498e472f1a53fa23',\n",
       "     'name': 'Erotic Museum',\n",
       "     'pluralName': 'Erotic Museums',\n",
       "     'shortName': 'Erotic Museum',\n",
       "     'icon': {'prefix': 'https://ss3.4sqi.net/img/categories_v2/nightlife/stripclub_',\n",
       "      'suffix': '.png'},\n",
       "     'categories': []},\n",
       "    {'id': '4bf58dd8d48988d190941735',\n",
       "     'name': 'History Museum',\n",
       "     'pluralName': 'History Museums',\n",
       "     'shortName': 'History Museum',\n",
       "     'icon': {'prefix': 'https://ss3.4sqi.net/img/categories_v2/arts_entertainment/museum_history_',\n",
       "      'suffix': '.png'},\n",
       "     'categories': []},\n",
       "    {'id': '4bf58dd8d48988d192941735',\n",
       "     'name': 'Planetarium',\n",
       "     'pluralName': 'Planetariums',\n",
       "     'shortName': 'Planetarium',\n",
       "     'icon': {'prefix': 'https://ss3.4sqi.net/img/categories_v2/arts_entertainment/museum_planetarium_',\n",
       "      'suffix': '.png'},\n",
       "     'categories': []},\n",
       "    {'id': '4bf58dd8d48988d191941735',\n",
       "     'name': 'Science Museum',\n",
       "     'pluralName': 'Science Museums',\n",
       "     'shortName': 'Science Museum',\n",
       "     'icon': {'prefix': 'https://ss3.4sqi.net/img/categories_v2/arts_entertainment/museum_science_',\n",
       "      'suffix': '.png'},\n",
       "     'categories': []}]},\n",
       "  {'id': '4bf58dd8d48988d1e5931735',\n",
       "   'name': 'Music Venue',\n",
       "   'pluralName': 'Music Venues',\n",
       "   'shortName': 'Music Venue',\n",
       "   'icon': {'prefix': 'https://ss3.4sqi.net/img/categories_v2/arts_entertainment/musicvenue_',\n",
       "    'suffix': '.png'},\n",
       "   'categories': [{'id': '4bf58dd8d48988d1e7931735',\n",
       "     'name': 'Jazz Club',\n",
       "     'pluralName': 'Jazz Clubs',\n",
       "     'shortName': 'Jazz Club',\n",
       "     'icon': {'prefix': 'https://ss3.4sqi.net/img/categories_v2/arts_entertainment/musicvenue_jazzclub_',\n",
       "      'suffix': '.png'},\n",
       "     'categories': []},\n",
       "    {'id': '4bf58dd8d48988d1e8931735',\n",
       "     'name': 'Piano Bar',\n",
       "     'pluralName': 'Piano Bars',\n",
       "     'shortName': 'Piano Bar',\n",
       "     'icon': {'prefix': 'https://ss3.4sqi.net/img/categories_v2/arts_entertainment/musicvenue_pianobar_',\n",
       "      'suffix': '.png'},\n",
       "     'categories': []},\n",
       "    {'id': '4bf58dd8d48988d1e9931735',\n",
       "     'name': 'Rock Club',\n",
       "     'pluralName': 'Rock Clubs',\n",
       "     'shortName': 'Rock Club',\n",
       "     'icon': {'prefix': 'https://ss3.4sqi.net/img/categories_v2/arts_entertainment/musicvenue_rockclub_',\n",
       "      'suffix': '.png'},\n",
       "     'categories': []}]},\n",
       "  {'id': '5744ccdfe4b0c0459246b4b8',\n",
       "   'name': 'Pachinko Parlor',\n",
       "   'pluralName': 'Pachinko Parlors',\n",
       "   'shortName': 'Pachinko Parlor',\n",
       "   'icon': {'prefix': 'https://ss3.4sqi.net/img/categories_v2/arts_entertainment/default_',\n",
       "    'suffix': '.png'},\n",
       "   'categories': []},\n",
       "  {'id': '4bf58dd8d48988d1f2931735',\n",
       "   'name': 'Performing Arts Venue',\n",
       "   'pluralName': 'Performing Arts Venues',\n",
       "   'shortName': 'Performing Arts',\n",
       "   'icon': {'prefix': 'https://ss3.4sqi.net/img/categories_v2/arts_entertainment/performingarts_',\n",
       "    'suffix': '.png'},\n",
       "   'categories': [{'id': '4bf58dd8d48988d134941735',\n",
       "     'name': 'Dance Studio',\n",
       "     'pluralName': 'Dance Studios',\n",
       "     'shortName': 'Dance Studio',\n",
       "     'icon': {'prefix': 'https://ss3.4sqi.net/img/categories_v2/arts_entertainment/performingarts_dancestudio_',\n",
       "      'suffix': '.png'},\n",
       "     'categories': []},\n",
       "    {'id': '4bf58dd8d48988d135941735',\n",
       "     'name': 'Indie Theater',\n",
       "     'pluralName': 'Indie Theaters',\n",
       "     'shortName': 'Indie',\n",
       "     'icon': {'prefix': 'https://ss3.4sqi.net/img/categories_v2/arts_entertainment/performingarts_theater_',\n",
       "      'suffix': '.png'},\n",
       "     'categories': []},\n",
       "    {'id': '4bf58dd8d48988d136941735',\n",
       "     'name': 'Opera House',\n",
       "     'pluralName': 'Opera Houses',\n",
       "     'shortName': 'Opera House',\n",
       "     'icon': {'prefix': 'https://ss3.4sqi.net/img/categories_v2/arts_entertainment/performingarts_operahouse_',\n",
       "      'suffix': '.png'},\n",
       "     'categories': []},\n",
       "    {'id': '4bf58dd8d48988d137941735',\n",
       "     'name': 'Theater',\n",
       "     'pluralName': 'Theaters',\n",
       "     'shortName': 'Theater',\n",
       "     'icon': {'prefix': 'https://ss3.4sqi.net/img/categories_v2/arts_entertainment/performingarts_theater_',\n",
       "      'suffix': '.png'},\n",
       "     'categories': []}]},\n",
       "  {'id': '4bf58dd8d48988d1e3931735',\n",
       "   'name': 'Pool Hall',\n",
       "   'pluralName': 'Pool Halls',\n",
       "   'shortName': 'Billiards',\n",
       "   'icon': {'prefix': 'https://ss3.4sqi.net/img/categories_v2/arts_entertainment/billiards_',\n",
       "    'suffix': '.png'},\n",
       "   'categories': []},\n",
       "  {'id': '507c8c4091d498d9fc8c67a9',\n",
       "   'name': 'Public Art',\n",
       "   'pluralName': 'Public Art',\n",
       "   'shortName': 'Public Art',\n",
       "   'icon': {'prefix': 'https://ss3.4sqi.net/img/categories_v2/arts_entertainment/default_',\n",
       "    'suffix': '.png'},\n",
       "   'categories': [{'id': '52e81612bcbc57f1066b79ed',\n",
       "     'name': 'Outdoor Sculpture',\n",
       "     'pluralName': 'Outdoor Sculptures',\n",
       "     'shortName': 'Outdoor Sculpture',\n",
       "     'icon': {'prefix': 'https://ss3.4sqi.net/img/categories_v2/parks_outdoors/sculpture_',\n",
       "      'suffix': '.png'},\n",
       "     'categories': []},\n",
       "    {'id': '52e81612bcbc57f1066b79ee',\n",
       "     'name': 'Street Art',\n",
       "     'pluralName': 'Street Art Installations',\n",
       "     'shortName': 'Street Art',\n",
       "     'icon': {'prefix': 'https://ss3.4sqi.net/img/categories_v2/arts_entertainment/default_',\n",
       "      'suffix': '.png'},\n",
       "     'categories': []}]},\n",
       "  {'id': '56aa371be4b08b9a8d573514',\n",
       "   'name': 'Racecourse',\n",
       "   'pluralName': 'Racecourses',\n",
       "   'shortName': 'Racecourse',\n",
       "   'icon': {'prefix': 'https://ss3.4sqi.net/img/categories_v2/arts_entertainment/stadium_track_',\n",
       "    'suffix': '.png'},\n",
       "   'categories': []},\n",
       "  {'id': '4bf58dd8d48988d1f4931735',\n",
       "   'name': 'Racetrack',\n",
       "   'pluralName': 'Racetracks',\n",
       "   'shortName': 'Racetrack',\n",
       "   'icon': {'prefix': 'https://ss3.4sqi.net/img/categories_v2/arts_entertainment/racetrack_',\n",
       "    'suffix': '.png'},\n",
       "   'categories': []},\n",
       "  {'id': '52e81612bcbc57f1066b79e9',\n",
       "   'name': 'Roller Rink',\n",
       "   'pluralName': 'Roller Rinks',\n",
       "   'shortName': 'Roller Rink',\n",
       "   'icon': {'prefix': 'https://ss3.4sqi.net/img/categories_v2/arts_entertainment/default_',\n",
       "    'suffix': '.png'},\n",
       "   'categories': []},\n",
       "  {'id': '52e81612bcbc57f1066b79ec',\n",
       "   'name': 'Salsa Club',\n",
       "   'pluralName': 'Salsa Clubs',\n",
       "   'shortName': 'Salsa Club',\n",
       "   'icon': {'prefix': 'https://ss3.4sqi.net/img/categories_v2/arts_entertainment/performingarts_dancestudio_',\n",
       "    'suffix': '.png'},\n",
       "   'categories': []},\n",
       "  {'id': '56aa371be4b08b9a8d5734f9',\n",
       "   'name': 'Samba School',\n",
       "   'pluralName': 'Samba Schools',\n",
       "   'shortName': 'Samba School',\n",
       "   'icon': {'prefix': 'https://ss3.4sqi.net/img/categories_v2/arts_entertainment/performingarts_dancestudio_',\n",
       "    'suffix': '.png'},\n",
       "   'categories': []},\n",
       "  {'id': '4bf58dd8d48988d184941735',\n",
       "   'name': 'Stadium',\n",
       "   'pluralName': 'Stadiums',\n",
       "   'shortName': 'Stadium',\n",
       "   'icon': {'prefix': 'https://ss3.4sqi.net/img/categories_v2/arts_entertainment/stadium_',\n",
       "    'suffix': '.png'},\n",
       "   'categories': [{'id': '4bf58dd8d48988d18c941735',\n",
       "     'name': 'Baseball Stadium',\n",
       "     'pluralName': 'Baseball Stadiums',\n",
       "     'shortName': 'Baseball',\n",
       "     'icon': {'prefix': 'https://ss3.4sqi.net/img/categories_v2/arts_entertainment/stadium_baseball_',\n",
       "      'suffix': '.png'},\n",
       "     'categories': []},\n",
       "    {'id': '4bf58dd8d48988d18b941735',\n",
       "     'name': 'Basketball Stadium',\n",
       "     'pluralName': 'Basketball Stadiums',\n",
       "     'shortName': 'Basketball',\n",
       "     'icon': {'prefix': 'https://ss3.4sqi.net/img/categories_v2/arts_entertainment/stadium_basketball_',\n",
       "      'suffix': '.png'},\n",
       "     'categories': []},\n",
       "    {'id': '4bf58dd8d48988d18a941735',\n",
       "     'name': 'Cricket Ground',\n",
       "     'pluralName': 'Cricket Grounds',\n",
       "     'shortName': 'Cricket',\n",
       "     'icon': {'prefix': 'https://ss3.4sqi.net/img/categories_v2/arts_entertainment/stadium_cricket_',\n",
       "      'suffix': '.png'},\n",
       "     'categories': []},\n",
       "    {'id': '4bf58dd8d48988d189941735',\n",
       "     'name': 'Football Stadium',\n",
       "     'pluralName': 'Football Stadiums',\n",
       "     'shortName': 'Football',\n",
       "     'icon': {'prefix': 'https://ss3.4sqi.net/img/categories_v2/arts_entertainment/stadium_football_',\n",
       "      'suffix': '.png'},\n",
       "     'categories': []},\n",
       "    {'id': '4bf58dd8d48988d185941735',\n",
       "     'name': 'Hockey Arena',\n",
       "     'pluralName': 'Hockey Arenas',\n",
       "     'shortName': 'Hockey',\n",
       "     'icon': {'prefix': 'https://ss3.4sqi.net/img/categories_v2/arts_entertainment/stadium_hockey_',\n",
       "      'suffix': '.png'},\n",
       "     'categories': []},\n",
       "    {'id': '56aa371be4b08b9a8d573556',\n",
       "     'name': 'Rugby Stadium',\n",
       "     'pluralName': 'Rugby Stadiums',\n",
       "     'shortName': 'Rugby',\n",
       "     'icon': {'prefix': 'https://ss3.4sqi.net/img/categories_v2/arts_entertainment/stadium_football_',\n",
       "      'suffix': '.png'},\n",
       "     'categories': []},\n",
       "    {'id': '4bf58dd8d48988d188941735',\n",
       "     'name': 'Soccer Stadium',\n",
       "     'pluralName': 'Soccer Stadiums',\n",
       "     'shortName': 'Soccer',\n",
       "     'icon': {'prefix': 'https://ss3.4sqi.net/img/categories_v2/arts_entertainment/stadium_soccer_',\n",
       "      'suffix': '.png'},\n",
       "     'categories': []},\n",
       "    {'id': '4e39a891bd410d7aed40cbc2',\n",
       "     'name': 'Tennis Stadium',\n",
       "     'pluralName': 'Tennis Stadiums',\n",
       "     'shortName': 'Tennis',\n",
       "     'icon': {'prefix': 'https://ss3.4sqi.net/img/categories_v2/arts_entertainment/stadium_tennis_',\n",
       "      'suffix': '.png'},\n",
       "     'categories': []},\n",
       "    {'id': '4bf58dd8d48988d187941735',\n",
       "     'name': 'Track Stadium',\n",
       "     'pluralName': 'Track Stadiums',\n",
       "     'shortName': 'Track',\n",
       "     'icon': {'prefix': 'https://ss3.4sqi.net/img/categories_v2/arts_entertainment/stadium_track_',\n",
       "      'suffix': '.png'},\n",
       "     'categories': []}]},\n",
       "  {'id': '4bf58dd8d48988d182941735',\n",
       "   'name': 'Theme Park',\n",
       "   'pluralName': 'Theme Parks',\n",
       "   'shortName': 'Theme Park',\n",
       "   'icon': {'prefix': 'https://ss3.4sqi.net/img/categories_v2/arts_entertainment/themepark_',\n",
       "    'suffix': '.png'},\n",
       "   'categories': [{'id': '5109983191d435c0d71c2bb1',\n",
       "     'name': 'Theme Park Ride / Attraction',\n",
       "     'pluralName': 'Theme Park Rides/Attractions',\n",
       "     'shortName': 'Theme Park',\n",
       "     'icon': {'prefix': 'https://ss3.4sqi.net/img/categories_v2/arts_entertainment/themepark_',\n",
       "      'suffix': '.png'},\n",
       "     'categories': []}]},\n",
       "  {'id': '56aa371be4b08b9a8d573520',\n",
       "   'name': 'Tour Provider',\n",
       "   'pluralName': 'Tour Providers',\n",
       "   'shortName': 'Tour Provider',\n",
       "   'icon': {'prefix': 'https://ss3.4sqi.net/img/categories_v2/arts_entertainment/default_',\n",
       "    'suffix': '.png'},\n",
       "   'categories': []},\n",
       "  {'id': '4bf58dd8d48988d193941735',\n",
       "   'name': 'Water Park',\n",
       "   'pluralName': 'Water Parks',\n",
       "   'shortName': 'Water Park',\n",
       "   'icon': {'prefix': 'https://ss3.4sqi.net/img/categories_v2/arts_entertainment/waterpark_',\n",
       "    'suffix': '.png'},\n",
       "   'categories': []},\n",
       "  {'id': '4bf58dd8d48988d17b941735',\n",
       "   'name': 'Zoo',\n",
       "   'pluralName': 'Zoos',\n",
       "   'shortName': 'Zoo',\n",
       "   'icon': {'prefix': 'https://ss3.4sqi.net/img/categories_v2/arts_entertainment/zoo_',\n",
       "    'suffix': '.png'},\n",
       "   'categories': [{'id': '58daa1558bbb0b01f18ec1fd',\n",
       "     'name': 'Zoo Exhibit',\n",
       "     'pluralName': 'Zoo Exhibits',\n",
       "     'shortName': 'Zoo Exhibit',\n",
       "     'icon': {'prefix': 'https://ss3.4sqi.net/img/categories_v2/arts_entertainment/zoo_',\n",
       "      'suffix': '.png'},\n",
       "     'categories': []}]}]}"
      ]
     },
     "execution_count": 14,
     "metadata": {},
     "output_type": "execute_result"
    }
   ],
   "source": [
    "cats[0]"
   ]
  },
  {
   "cell_type": "code",
   "execution_count": null,
   "metadata": {},
   "outputs": [],
   "source": []
  },
  {
   "cell_type": "markdown",
   "metadata": {},
   "source": [
    "a Function to parse data."
   ]
  },
  {
   "cell_type": "code",
   "execution_count": 15,
   "metadata": {},
   "outputs": [],
   "source": [
    "def get_categories(categories , liste = []): # Extract names sub-category \n",
    "    if categories and type(categories==list):\n",
    "        for category in categories :\n",
    "                if 'name' in category :\n",
    "                    liste.append(category['name'])\n",
    "                if 'categories' in category:\n",
    "                     get_categories(category['categories'],liste)\n",
    "    return liste"
   ]
  },
  {
   "cell_type": "markdown",
   "metadata": {},
   "source": [
    "Extract names sub-category for each category"
   ]
  },
  {
   "cell_type": "code",
   "execution_count": 16,
   "metadata": {},
   "outputs": [],
   "source": [
    "dict_categories = {}\n",
    "for i in range(len(cats))  :\n",
    "        dict_categories[cats[i]['name']] = get_categories(cats[i]['categories'],liste = [])"
   ]
  },
  {
   "cell_type": "markdown",
   "metadata": {},
   "source": [
    "Let's see sub-categories of 'Arts & Entertainment' category !!"
   ]
  },
  {
   "cell_type": "code",
   "execution_count": 8,
   "metadata": {},
   "outputs": [
    {
     "data": {
      "text/plain": [
       "['Amphitheater',\n",
       " 'Aquarium',\n",
       " 'Arcade',\n",
       " 'Art Gallery',\n",
       " 'Bowling Alley',\n",
       " 'Casino',\n",
       " 'Circus',\n",
       " 'Comedy Club',\n",
       " 'Concert Hall',\n",
       " 'Country Dance Club',\n",
       " 'Disc Golf',\n",
       " 'Exhibit',\n",
       " 'General Entertainment',\n",
       " 'Go Kart Track',\n",
       " 'Historic Site',\n",
       " 'Karaoke Box',\n",
       " 'Laser Tag',\n",
       " 'Memorial Site',\n",
       " 'Mini Golf',\n",
       " 'Movie Theater',\n",
       " 'Drive-in Theater',\n",
       " 'Indie Movie Theater',\n",
       " 'Multiplex',\n",
       " 'Museum',\n",
       " 'Art Museum',\n",
       " 'Erotic Museum',\n",
       " 'History Museum',\n",
       " 'Planetarium',\n",
       " 'Science Museum',\n",
       " 'Music Venue',\n",
       " 'Jazz Club',\n",
       " 'Piano Bar',\n",
       " 'Rock Club',\n",
       " 'Pachinko Parlor',\n",
       " 'Performing Arts Venue',\n",
       " 'Dance Studio',\n",
       " 'Indie Theater',\n",
       " 'Opera House',\n",
       " 'Theater',\n",
       " 'Pool Hall',\n",
       " 'Public Art',\n",
       " 'Outdoor Sculpture',\n",
       " 'Street Art',\n",
       " 'Racecourse',\n",
       " 'Racetrack',\n",
       " 'Roller Rink',\n",
       " 'Salsa Club',\n",
       " 'Samba School',\n",
       " 'Stadium',\n",
       " 'Baseball Stadium',\n",
       " 'Basketball Stadium',\n",
       " 'Cricket Ground',\n",
       " 'Football Stadium',\n",
       " 'Hockey Arena',\n",
       " 'Rugby Stadium',\n",
       " 'Soccer Stadium',\n",
       " 'Tennis Stadium',\n",
       " 'Track Stadium',\n",
       " 'Theme Park',\n",
       " 'Theme Park Ride / Attraction',\n",
       " 'Tour Provider',\n",
       " 'Water Park',\n",
       " 'Zoo',\n",
       " 'Zoo Exhibit']"
      ]
     },
     "execution_count": 8,
     "metadata": {},
     "output_type": "execute_result"
    }
   ],
   "source": [
    "dict_categories['Arts & Entertainment']"
   ]
  },
  {
   "cell_type": "markdown",
   "metadata": {},
   "source": [
    "Visualize categories data "
   ]
  },
  {
   "cell_type": "markdown",
   "metadata": {},
   "source": [
    "<a id='item2'></a>"
   ]
  },
  {
   "cell_type": "code",
   "execution_count": 9,
   "metadata": {},
   "outputs": [
    {
     "data": {
      "image/png": "[encoded data removed]",
      "text/plain": [
       "<Figure size 432x288 with 1 Axes>"
      ]
     },
     "metadata": {
      "needs_background": "light"
     },
     "output_type": "display_data"
    }
   ],
   "source": [
    "ss = pd.Series(dict_categories)\n",
    "ax = ss.map(len).plot.barh(color='g')\n",
    "ax.set_xlabel(\"Sub-categories Nubmer\", fontsize=12)\n",
    "for i in ax.patches:\n",
    "    ax.text(i.get_width()+0.3,i.get_y()+0.1 ,str(round(i.get_width(),2)) )\n",
    "ax.set_xlim(0, 400)\n",
    "plt.title('Number of Sub-categories by Categories in Foursquare')\n",
    "plt.savefig('Foursquare_categories.png',pad_inches=0.5,bbox_inches='tight')"
   ]
  },
  {
   "cell_type": "code",
   "execution_count": null,
   "metadata": {},
   "outputs": [],
   "source": []
  },
  {
   "cell_type": "code",
   "execution_count": null,
   "metadata": {},
   "outputs": [],
   "source": []
  },
  {
   "cell_type": "markdown",
   "metadata": {},
   "source": [
    "## 2. Data Analysis "
   ]
  },
  {
   "cell_type": "markdown",
   "metadata": {},
   "source": [
    "<a id='item2'></a>"
   ]
  },
  {
   "cell_type": "markdown",
   "metadata": {},
   "source": [
    "<a id='item2.1'></a>"
   ]
  },
  {
   "cell_type": "markdown",
   "metadata": {},
   "source": [
    "### 2.1 Data of Names and Geographic Coordinates of Neighborhood"
   ]
  },
  {
   "cell_type": "code",
   "execution_count": null,
   "metadata": {},
   "outputs": [],
   "source": []
  },
  {
   "cell_type": "code",
   "execution_count": 46,
   "metadata": {},
   "outputs": [],
   "source": [
    "df_Paris = pd.read_csv('List_neighbourhood_paris_city.csv')"
   ]
  },
  {
   "cell_type": "code",
   "execution_count": 47,
   "metadata": {},
   "outputs": [
    {
     "data": {
      "text/html": [
       "<div>\n",
       "<style scoped>\n",
       "    .dataframe tbody tr th:only-of-type {\n",
       "        vertical-align: middle;\n",
       "    }\n",
       "\n",
       "    .dataframe tbody tr th {\n",
       "        vertical-align: top;\n",
       "    }\n",
       "\n",
       "    .dataframe thead th {\n",
       "        text-align: right;\n",
       "    }\n",
       "</style>\n",
       "<table border=\"1\" class=\"dataframe\">\n",
       "  <thead>\n",
       "    <tr style=\"text-align: right;\">\n",
       "      <th></th>\n",
       "      <th>borough</th>\n",
       "      <th>Rank</th>\n",
       "      <th>Neighborhood</th>\n",
       "      <th>Population</th>\n",
       "      <th>Area</th>\n",
       "      <th>Density</th>\n",
       "      <th>Longitude</th>\n",
       "      <th>Latitude</th>\n",
       "      <th>Distance_center</th>\n",
       "    </tr>\n",
       "  </thead>\n",
       "  <tbody>\n",
       "    <tr>\n",
       "      <th>0</th>\n",
       "      <td>1er arrondissementdit « du Louvre »</td>\n",
       "      <td>1er</td>\n",
       "      <td>Saint-Germain-l'Auxerrois</td>\n",
       "      <td>1 672</td>\n",
       "      <td>86,9</td>\n",
       "      <td>1 924</td>\n",
       "      <td>2.340195</td>\n",
       "      <td>48.860112</td>\n",
       "      <td>0.916353</td>\n",
       "    </tr>\n",
       "    <tr>\n",
       "      <th>1</th>\n",
       "      <td>1er arrondissementdit « du Louvre »</td>\n",
       "      <td>2e</td>\n",
       "      <td>Halles</td>\n",
       "      <td>8 984</td>\n",
       "      <td>41,2</td>\n",
       "      <td>21 806</td>\n",
       "      <td>2.344744</td>\n",
       "      <td>48.862541</td>\n",
       "      <td>0.824991</td>\n",
       "    </tr>\n",
       "    <tr>\n",
       "      <th>2</th>\n",
       "      <td>1er arrondissementdit « du Louvre »</td>\n",
       "      <td>3e</td>\n",
       "      <td>Palais-Royal</td>\n",
       "      <td>3 195</td>\n",
       "      <td>27,4</td>\n",
       "      <td>11 661</td>\n",
       "      <td>2.337749</td>\n",
       "      <td>48.864912</td>\n",
       "      <td>1.367567</td>\n",
       "    </tr>\n",
       "  </tbody>\n",
       "</table>\n",
       "</div>"
      ],
      "text/plain": [
       "                               borough Rank               Neighborhood  \\\n",
       "0  1er arrondissementdit « du Louvre »  1er  Saint-Germain-l'Auxerrois   \n",
       "1  1er arrondissementdit « du Louvre »   2e                     Halles   \n",
       "2  1er arrondissementdit « du Louvre »   3e               Palais-Royal   \n",
       "\n",
       "  Population  Area Density  Longitude   Latitude  Distance_center  \n",
       "0      1 672  86,9   1 924   2.340195  48.860112         0.916353  \n",
       "1      8 984  41,2  21 806   2.344744  48.862541         0.824991  \n",
       "2      3 195  27,4  11 661   2.337749  48.864912         1.367567  "
      ]
     },
     "execution_count": 47,
     "metadata": {},
     "output_type": "execute_result"
    }
   ],
   "source": [
    "df_Paris.head(3)"
   ]
  },
  {
   "cell_type": "markdown",
   "metadata": {},
   "source": [
    "Check Types Data !!"
   ]
  },
  {
   "cell_type": "code",
   "execution_count": 48,
   "metadata": {},
   "outputs": [
    {
     "name": "stdout",
     "output_type": "stream",
     "text": [
      "<class 'pandas.core.frame.DataFrame'>\n",
      "RangeIndex: 80 entries, 0 to 79\n",
      "Data columns (total 9 columns):\n",
      "borough            80 non-null object\n",
      "Rank               80 non-null object\n",
      "Neighborhood       80 non-null object\n",
      "Population         80 non-null object\n",
      "Area               80 non-null object\n",
      "Density            80 non-null object\n",
      "Longitude          80 non-null float64\n",
      "Latitude           80 non-null float64\n",
      "Distance_center    80 non-null float64\n",
      "dtypes: float64(3), object(6)\n",
      "memory usage: 5.7+ KB\n"
     ]
    }
   ],
   "source": [
    "df_Paris.info()"
   ]
  },
  {
   "cell_type": "markdown",
   "metadata": {},
   "source": [
    "We must change  the tpe of population column to float !!"
   ]
  },
  {
   "cell_type": "code",
   "execution_count": 49,
   "metadata": {},
   "outputs": [],
   "source": [
    "df_Paris[\"Population\"] = df_Paris.Population.apply(lambda x : int(x.replace('\\xa0', '')))"
   ]
  },
  {
   "cell_type": "markdown",
   "metadata": {},
   "source": [
    "Population of Paris city "
   ]
  },
  {
   "cell_type": "code",
   "execution_count": 14,
   "metadata": {},
   "outputs": [
    {
     "data": {
      "text/plain": [
       "2125851"
      ]
     },
     "execution_count": 14,
     "metadata": {},
     "output_type": "execute_result"
    }
   ],
   "source": [
    "df_Paris[\"Population\"].sum()"
   ]
  },
  {
   "cell_type": "markdown",
   "metadata": {},
   "source": [
    "The Population distribution.  \n",
    "We have almost 20 neighborhoods less than 10 thousand !!!"
   ]
  },
  {
   "cell_type": "code",
   "execution_count": 15,
   "metadata": {},
   "outputs": [
    {
     "data": {
      "text/plain": [
       "<matplotlib.axes._subplots.AxesSubplot at 0x7fa67a3c5748>"
      ]
     },
     "execution_count": 15,
     "metadata": {},
     "output_type": "execute_result"
    },
    {
     "data": {
      "image/png": "[encoded data removed]",
      "text/plain": [
       "<Figure size 432x288 with 1 Axes>"
      ]
     },
     "metadata": {
      "needs_background": "light"
     },
     "output_type": "display_data"
    }
   ],
   "source": [
    "df_Paris[\"Population\"].plot.hist(edgecolor='black')"
   ]
  },
  {
   "cell_type": "markdown",
   "metadata": {},
   "source": [
    "The relation between the number of population and the distance to the city center !!"
   ]
  },
  {
   "cell_type": "code",
   "execution_count": 22,
   "metadata": {},
   "outputs": [
    {
     "data": {
      "image/png": "[encoded data removed]",
      "text/plain": [
       "<Figure size 432x288 with 1 Axes>"
      ]
     },
     "metadata": {
      "needs_background": "light"
     },
     "output_type": "display_data"
    }
   ],
   "source": [
    "fig, ax = plt.subplots(figsize=(6,4))\n",
    "ax = sns.regplot(x='Distance_center', y='Population', data=df_Paris)\n",
    "ax.set(xlabel='Distance to the City Center in km')\n",
    "plt.title('The relationship between Distance to the City Center and the Population')\n",
    "plt.savefig('Population_distance_center.png',transparent=False,bbox_inches='tight')"
   ]
  },
  {
   "cell_type": "markdown",
   "metadata": {},
   "source": [
    "<a id='item2.2'></a>"
   ]
  },
  {
   "cell_type": "markdown",
   "metadata": {},
   "source": [
    "## 2.2 Data of Venues of Neighborhoods"
   ]
  },
  {
   "cell_type": "code",
   "execution_count": 8,
   "metadata": {},
   "outputs": [],
   "source": [
    "df_venues = pd.read_csv('List_venues_paris.csv')"
   ]
  },
  {
   "cell_type": "markdown",
   "metadata": {},
   "source": [
    "Since we will apply a filtering on venues, we have to get the number of veniues before filtering."
   ]
  },
  {
   "cell_type": "code",
   "execution_count": 9,
   "metadata": {},
   "outputs": [
    {
     "data": {
      "text/plain": [
       "5728"
      ]
     },
     "execution_count": 9,
     "metadata": {},
     "output_type": "execute_result"
    }
   ],
   "source": [
    "Number_venues_before = df_venues.shape[0]\n",
    "Number_venues_before"
   ]
  },
  {
   "cell_type": "code",
   "execution_count": 10,
   "metadata": {},
   "outputs": [
    {
     "data": {
      "text/plain": [
       "count    306.000000\n",
       "mean      18.718954\n",
       "std       57.435062\n",
       "min        1.000000\n",
       "25%        2.000000\n",
       "50%        5.000000\n",
       "75%       15.000000\n",
       "max      769.000000\n",
       "Name: Venue Category, dtype: float64"
      ]
     },
     "execution_count": 10,
     "metadata": {},
     "output_type": "execute_result"
    }
   ],
   "source": [
    "df_venues['Venue Category'].value_counts().describe(include='all')"
   ]
  },
  {
   "cell_type": "markdown",
   "metadata": {},
   "source": [
    "We notice that most of venues categories repeat less than 5 times"
   ]
  },
  {
   "cell_type": "markdown",
   "metadata": {},
   "source": [
    "Now, we are going to apply a filtering on venues according on its categories!!"
   ]
  },
  {
   "cell_type": "code",
   "execution_count": 17,
   "metadata": {},
   "outputs": [],
   "source": [
    "def check_categories(name): # get the category name  of each sub_category \n",
    "    if name in dict_categories:\n",
    "        return name;\n",
    "    for k, v in dict_categories.items():\n",
    "        if name in dict_categories[k] :\n",
    "            return k\n",
    "    return False"
   ]
  },
  {
   "cell_type": "code",
   "execution_count": 18,
   "metadata": {},
   "outputs": [],
   "source": [
    "df_venues['Top Category'] = df_venues['Venue Category'].apply(check_categories)\n",
    "ss = df_venues['Top Category'].value_counts() # series of category before filtering, we are going to use it for visualization"
   ]
  },
  {
   "cell_type": "code",
   "execution_count": 19,
   "metadata": {},
   "outputs": [
    {
     "data": {
      "text/html": [
       "<div>\n",
       "<style scoped>\n",
       "    .dataframe tbody tr th:only-of-type {\n",
       "        vertical-align: middle;\n",
       "    }\n",
       "\n",
       "    .dataframe tbody tr th {\n",
       "        vertical-align: top;\n",
       "    }\n",
       "\n",
       "    .dataframe thead th {\n",
       "        text-align: right;\n",
       "    }\n",
       "</style>\n",
       "<table border=\"1\" class=\"dataframe\">\n",
       "  <thead>\n",
       "    <tr style=\"text-align: right;\">\n",
       "      <th></th>\n",
       "      <th>Neighborhood</th>\n",
       "      <th>Neighborhood Latitude</th>\n",
       "      <th>Neighborhood Longitude</th>\n",
       "      <th>Venue</th>\n",
       "      <th>Venue Latitude</th>\n",
       "      <th>Venue Longitude</th>\n",
       "      <th>Venue Country</th>\n",
       "      <th>Venue Category</th>\n",
       "      <th>Top Category</th>\n",
       "    </tr>\n",
       "  </thead>\n",
       "  <tbody>\n",
       "    <tr>\n",
       "      <th>0</th>\n",
       "      <td>Saint-Germain-l'Auxerrois</td>\n",
       "      <td>48.860112</td>\n",
       "      <td>2.340195</td>\n",
       "      <td>Cour Carrée du Louvre</td>\n",
       "      <td>48.860360</td>\n",
       "      <td>2.338543</td>\n",
       "      <td>France</td>\n",
       "      <td>Pedestrian Plaza</td>\n",
       "      <td>Outdoors &amp; Recreation</td>\n",
       "    </tr>\n",
       "    <tr>\n",
       "      <th>1</th>\n",
       "      <td>Saint-Germain-l'Auxerrois</td>\n",
       "      <td>48.860112</td>\n",
       "      <td>2.340195</td>\n",
       "      <td>Place du Louvre</td>\n",
       "      <td>48.859841</td>\n",
       "      <td>2.340822</td>\n",
       "      <td>France</td>\n",
       "      <td>Plaza</td>\n",
       "      <td>Outdoors &amp; Recreation</td>\n",
       "    </tr>\n",
       "    <tr>\n",
       "      <th>2</th>\n",
       "      <td>Saint-Germain-l'Auxerrois</td>\n",
       "      <td>48.860112</td>\n",
       "      <td>2.340195</td>\n",
       "      <td>Le Fumoir</td>\n",
       "      <td>48.860341</td>\n",
       "      <td>2.340647</td>\n",
       "      <td>France</td>\n",
       "      <td>Cocktail Bar</td>\n",
       "      <td>Nightlife Spot</td>\n",
       "    </tr>\n",
       "    <tr>\n",
       "      <th>3</th>\n",
       "      <td>Saint-Germain-l'Auxerrois</td>\n",
       "      <td>48.860112</td>\n",
       "      <td>2.340195</td>\n",
       "      <td>Église Saint-Germain l'Auxerrois</td>\n",
       "      <td>48.859887</td>\n",
       "      <td>2.340617</td>\n",
       "      <td>France</td>\n",
       "      <td>Church</td>\n",
       "      <td>Professional &amp; Other Places</td>\n",
       "    </tr>\n",
       "    <tr>\n",
       "      <th>4</th>\n",
       "      <td>Saint-Germain-l'Auxerrois</td>\n",
       "      <td>48.860112</td>\n",
       "      <td>2.340195</td>\n",
       "      <td>La Régalade Saint-Honoré</td>\n",
       "      <td>48.861620</td>\n",
       "      <td>2.341749</td>\n",
       "      <td>France</td>\n",
       "      <td>French Restaurant</td>\n",
       "      <td>Food</td>\n",
       "    </tr>\n",
       "  </tbody>\n",
       "</table>\n",
       "</div>"
      ],
      "text/plain": [
       "                Neighborhood  Neighborhood Latitude  Neighborhood Longitude  \\\n",
       "0  Saint-Germain-l'Auxerrois              48.860112                2.340195   \n",
       "1  Saint-Germain-l'Auxerrois              48.860112                2.340195   \n",
       "2  Saint-Germain-l'Auxerrois              48.860112                2.340195   \n",
       "3  Saint-Germain-l'Auxerrois              48.860112                2.340195   \n",
       "4  Saint-Germain-l'Auxerrois              48.860112                2.340195   \n",
       "\n",
       "                              Venue  Venue Latitude  Venue Longitude  \\\n",
       "0             Cour Carrée du Louvre       48.860360         2.338543   \n",
       "1                   Place du Louvre       48.859841         2.340822   \n",
       "2                         Le Fumoir       48.860341         2.340647   \n",
       "3  Église Saint-Germain l'Auxerrois       48.859887         2.340617   \n",
       "4          La Régalade Saint-Honoré       48.861620         2.341749   \n",
       "\n",
       "  Venue Country     Venue Category                 Top Category  \n",
       "0        France   Pedestrian Plaza        Outdoors & Recreation  \n",
       "1        France              Plaza        Outdoors & Recreation  \n",
       "2        France       Cocktail Bar               Nightlife Spot  \n",
       "3        France             Church  Professional & Other Places  \n",
       "4        France  French Restaurant                         Food  "
      ]
     },
     "execution_count": 19,
     "metadata": {},
     "output_type": "execute_result"
    }
   ],
   "source": [
    "df_venues.head()"
   ]
  },
  {
   "cell_type": "markdown",
   "metadata": {},
   "source": [
    "Initialize the sub-categories that we are going to use in order to filter the venues !!"
   ]
  },
  {
   "cell_type": "code",
   "execution_count": 20,
   "metadata": {},
   "outputs": [],
   "source": [
    "dict_categories_filter = {}"
   ]
  },
  {
   "cell_type": "code",
   "execution_count": 21,
   "metadata": {},
   "outputs": [],
   "source": [
    "dict_categories_filter['Arts & Entertainment'] = ['Bowling Alley','Casino','Circus','Country Dance Club'\\\n",
    ",'General Entertainment','Laser Tag','Movie Theater','Drive-in Theater','Indie Movie Theater','Multiplex']\n",
    "\n",
    "dict_categories_filter['Outdoors & Recreation'] = ['Gym / Fitness Center','Boxing Gym','Climbing Gym',\\\n",
    "'Gymnastics Gym','Gym','Outdoor Gym']\n",
    "\n",
    "dict_categories_filter['Travel & Transport'] = ['Hotel','Bed & Breakfast','Boarding House','Hostel',\\\n",
    "'Hotel Pool','Inn','Motel','Resort','Vacation Rental']\n",
    "\n",
    "dict_categories_filter['Food'] = dict_categories['Food']\n",
    "dict_categories_filter['Nightlife Spot'] = dict_categories['Nightlife Spot']\n",
    "dict_categories_filter['Shop & Service'] = dict_categories['Shop & Service']"
   ]
  },
  {
   "cell_type": "markdown",
   "metadata": {},
   "source": [
    "Function of filtering"
   ]
  },
  {
   "cell_type": "code",
   "execution_count": 22,
   "metadata": {},
   "outputs": [],
   "source": [
    "def filter_category(name):\n",
    "    #print(row['Venue Category'])\n",
    "    top_category = check_categories(name)#row['Venue Category']\n",
    "    if (top_category in dict_categories_filter) \\\n",
    "    and ( name in dict_categories_filter[top_category] or name == top_category) :#row['Venue Category']\n",
    "        return True\n",
    "    return False"
   ]
  },
  {
   "cell_type": "code",
   "execution_count": 23,
   "metadata": {},
   "outputs": [],
   "source": [
    "df_venues = df_venues[df_venues['Venue Category'].apply(filter_category)]"
   ]
  },
  {
   "cell_type": "code",
   "execution_count": 24,
   "metadata": {},
   "outputs": [
    {
     "data": {
      "text/html": [
       "<div>\n",
       "<style scoped>\n",
       "    .dataframe tbody tr th:only-of-type {\n",
       "        vertical-align: middle;\n",
       "    }\n",
       "\n",
       "    .dataframe tbody tr th {\n",
       "        vertical-align: top;\n",
       "    }\n",
       "\n",
       "    .dataframe thead th {\n",
       "        text-align: right;\n",
       "    }\n",
       "</style>\n",
       "<table border=\"1\" class=\"dataframe\">\n",
       "  <thead>\n",
       "    <tr style=\"text-align: right;\">\n",
       "      <th></th>\n",
       "      <th>Neighborhood</th>\n",
       "      <th>Neighborhood Latitude</th>\n",
       "      <th>Neighborhood Longitude</th>\n",
       "      <th>Venue</th>\n",
       "      <th>Venue Latitude</th>\n",
       "      <th>Venue Longitude</th>\n",
       "      <th>Venue Country</th>\n",
       "      <th>Venue Category</th>\n",
       "      <th>Top Category</th>\n",
       "    </tr>\n",
       "  </thead>\n",
       "  <tbody>\n",
       "    <tr>\n",
       "      <th>0</th>\n",
       "      <td>Saint-Germain-l'Auxerrois</td>\n",
       "      <td>48.860112</td>\n",
       "      <td>2.340195</td>\n",
       "      <td>Le Fumoir</td>\n",
       "      <td>48.860341</td>\n",
       "      <td>2.340647</td>\n",
       "      <td>France</td>\n",
       "      <td>Cocktail Bar</td>\n",
       "      <td>Nightlife Spot</td>\n",
       "    </tr>\n",
       "    <tr>\n",
       "      <th>1</th>\n",
       "      <td>Saint-Germain-l'Auxerrois</td>\n",
       "      <td>48.860112</td>\n",
       "      <td>2.340195</td>\n",
       "      <td>La Régalade Saint-Honoré</td>\n",
       "      <td>48.861620</td>\n",
       "      <td>2.341749</td>\n",
       "      <td>France</td>\n",
       "      <td>French Restaurant</td>\n",
       "      <td>Food</td>\n",
       "    </tr>\n",
       "  </tbody>\n",
       "</table>\n",
       "</div>"
      ],
      "text/plain": [
       "                Neighborhood  Neighborhood Latitude  Neighborhood Longitude  \\\n",
       "0  Saint-Germain-l'Auxerrois              48.860112                2.340195   \n",
       "1  Saint-Germain-l'Auxerrois              48.860112                2.340195   \n",
       "\n",
       "                      Venue  Venue Latitude  Venue Longitude Venue Country  \\\n",
       "0                 Le Fumoir       48.860341         2.340647        France   \n",
       "1  La Régalade Saint-Honoré       48.861620         2.341749        France   \n",
       "\n",
       "      Venue Category    Top Category  \n",
       "0       Cocktail Bar  Nightlife Spot  \n",
       "1  French Restaurant            Food  "
      ]
     },
     "execution_count": 24,
     "metadata": {},
     "output_type": "execute_result"
    }
   ],
   "source": [
    "df_venues.reset_index(inplace = True,drop=True)\n",
    "df_venues.head(2)"
   ]
  },
  {
   "cell_type": "code",
   "execution_count": 25,
   "metadata": {},
   "outputs": [
    {
     "data": {
      "text/plain": [
       "5109"
      ]
     },
     "execution_count": 25,
     "metadata": {},
     "output_type": "execute_result"
    }
   ],
   "source": [
    "Number_venues_after = df_venues.shape[0]\n",
    "Number_venues_after"
   ]
  },
  {
   "cell_type": "code",
   "execution_count": 26,
   "metadata": {},
   "outputs": [
    {
     "name": "stdout",
     "output_type": "stream",
     "text": [
      "the number of venues removed is  619\n"
     ]
    }
   ],
   "source": [
    "print ( 'the number of venues removed is ', Number_venues_before-Number_venues_after)"
   ]
  },
  {
   "cell_type": "code",
   "execution_count": 27,
   "metadata": {},
   "outputs": [
    {
     "data": {
      "text/plain": [
       "<matplotlib.axes._subplots.AxesSubplot at 0x7fcfca8d97b8>"
      ]
     },
     "execution_count": 27,
     "metadata": {},
     "output_type": "execute_result"
    },
    {
     "data": {
      "image/png": "[encoded data removed]",
      "text/plain": [
       "<Figure size 432x288 with 1 Axes>"
      ]
     },
     "metadata": {
      "needs_background": "light"
     },
     "output_type": "display_data"
    }
   ],
   "source": [
    "df_venues['Venue Category'].value_counts().plot.box()"
   ]
  },
  {
   "cell_type": "markdown",
   "metadata": {},
   "source": [
    "After filtering, the venues categories still repeat less than 5 times"
   ]
  },
  {
   "cell_type": "markdown",
   "metadata": {},
   "source": [
    "Let's see the venues categories that repeat more than 100 times"
   ]
  },
  {
   "cell_type": "code",
   "execution_count": 28,
   "metadata": {},
   "outputs": [],
   "source": [
    "Venue_Category = df_venues['Venue Category'].value_counts()"
   ]
  },
  {
   "cell_type": "code",
   "execution_count": 29,
   "metadata": {},
   "outputs": [
    {
     "data": {
      "text/plain": [
       "French Restaurant      769\n",
       "Hotel                  433\n",
       "Italian Restaurant     239\n",
       "Bar                    217\n",
       "Bakery                 164\n",
       "Café                   149\n",
       "Bistro                 139\n",
       "Japanese Restaurant    135\n",
       "Pizza Place            116\n",
       "Wine Bar               106\n",
       "Restaurant             105\n",
       "Coffee Shop            103\n",
       "Name: Venue Category, dtype: int64"
      ]
     },
     "execution_count": 29,
     "metadata": {},
     "output_type": "execute_result"
    }
   ],
   "source": [
    "Venue_Category[Venue_Category>100]"
   ]
  },
  {
   "cell_type": "markdown",
   "metadata": {},
   "source": [
    "Let's see some venues categories that repeat one time"
   ]
  },
  {
   "cell_type": "code",
   "execution_count": 30,
   "metadata": {},
   "outputs": [
    {
     "data": {
      "text/plain": [
       "EV Charging Station     1\n",
       "Pop-Up Shop             1\n",
       "Cantonese Restaurant    1\n",
       "Food Service            1\n",
       "Malay Restaurant        1\n",
       "Name: Venue Category, dtype: int64"
      ]
     },
     "execution_count": 30,
     "metadata": {},
     "output_type": "execute_result"
    }
   ],
   "source": [
    "Venue_Category[Venue_Category==1].head()"
   ]
  },
  {
   "cell_type": "markdown",
   "metadata": {},
   "source": [
    "Let's Compare the number of venues for each category before and after filtering"
   ]
  },
  {
   "cell_type": "code",
   "execution_count": 31,
   "metadata": {},
   "outputs": [],
   "source": [
    "import math"
   ]
  },
  {
   "cell_type": "code",
   "execution_count": 32,
   "metadata": {},
   "outputs": [
    {
     "data": {
      "text/html": [
       "<div>\n",
       "<style scoped>\n",
       "    .dataframe tbody tr th:only-of-type {\n",
       "        vertical-align: middle;\n",
       "    }\n",
       "\n",
       "    .dataframe tbody tr th {\n",
       "        vertical-align: top;\n",
       "    }\n",
       "\n",
       "    .dataframe thead th {\n",
       "        text-align: right;\n",
       "    }\n",
       "</style>\n",
       "<table border=\"1\" class=\"dataframe\">\n",
       "  <thead>\n",
       "    <tr style=\"text-align: right;\">\n",
       "      <th></th>\n",
       "      <th>Top Category</th>\n",
       "      <th>Top Category</th>\n",
       "    </tr>\n",
       "  </thead>\n",
       "  <tbody>\n",
       "    <tr>\n",
       "      <th>Food</th>\n",
       "      <td>3278</td>\n",
       "      <td>3278.0</td>\n",
       "    </tr>\n",
       "    <tr>\n",
       "      <th>Shop &amp; Service</th>\n",
       "      <td>723</td>\n",
       "      <td>723.0</td>\n",
       "    </tr>\n",
       "    <tr>\n",
       "      <th>Nightlife Spot</th>\n",
       "      <td>566</td>\n",
       "      <td>566.0</td>\n",
       "    </tr>\n",
       "    <tr>\n",
       "      <th>Travel &amp; Transport</th>\n",
       "      <td>480</td>\n",
       "      <td>452.0</td>\n",
       "    </tr>\n",
       "    <tr>\n",
       "      <th>Outdoors &amp; Recreation</th>\n",
       "      <td>329</td>\n",
       "      <td>49.0</td>\n",
       "    </tr>\n",
       "    <tr>\n",
       "      <th>Arts &amp; Entertainment</th>\n",
       "      <td>326</td>\n",
       "      <td>41.0</td>\n",
       "    </tr>\n",
       "    <tr>\n",
       "      <th>Professional &amp; Other Places</th>\n",
       "      <td>24</td>\n",
       "      <td>NaN</td>\n",
       "    </tr>\n",
       "    <tr>\n",
       "      <th>College &amp; University</th>\n",
       "      <td>2</td>\n",
       "      <td>NaN</td>\n",
       "    </tr>\n",
       "  </tbody>\n",
       "</table>\n",
       "</div>"
      ],
      "text/plain": [
       "                             Top Category  Top Category\n",
       "Food                                 3278        3278.0\n",
       "Shop & Service                        723         723.0\n",
       "Nightlife Spot                        566         566.0\n",
       "Travel & Transport                    480         452.0\n",
       "Outdoors & Recreation                 329          49.0\n",
       "Arts & Entertainment                  326          41.0\n",
       "Professional & Other Places            24           NaN\n",
       "College & University                    2           NaN"
      ]
     },
     "execution_count": 32,
     "metadata": {},
     "output_type": "execute_result"
    }
   ],
   "source": [
    "ss1 = df_venues['Top Category'].value_counts() # series of category after filtering\n",
    "df_plot = pd.concat([ss,ss1],axis=1,sort=False)\n",
    "df_plot"
   ]
  },
  {
   "cell_type": "code",
   "execution_count": 33,
   "metadata": {},
   "outputs": [
    {
     "data": {
      "image/png": "[encoded data removed]",
      "text/plain": [
       "<Figure size 432x288 with 1 Axes>"
      ]
     },
     "metadata": {
      "needs_background": "light"
     },
     "output_type": "display_data"
    }
   ],
   "source": [
    "fig, ax = plt.subplots()\n",
    "\n",
    "df_plot.columns = ['Before Filtering', 'After Filtering']\n",
    "df_plot.plot.barh(ax=ax)\n",
    "\n",
    "for i in range(len(ss)) :\n",
    "    if math.isnan(df_plot.iloc[i,1]):\n",
    "        percent = (df_plot.iloc[i,0]/Number_venues_before)*100\n",
    "        text = '{} ({}%)'.format(df_plot.iloc[i,0],round(percent,2))\n",
    "        ax.text(df_plot.iloc[i,0]+50,i-0.25 ,text,size=10 )\n",
    "    else:\n",
    "        percent = (df_plot.iloc[i,0]/Number_venues_before)*100\n",
    "        text1 = '{} ({}%)'.format(df_plot.iloc[i,0],round(percent,2))\n",
    "        ax.text(df_plot.iloc[i,0]+50,i-0.3 ,text1,size=8)\n",
    "        percent = (df_plot.iloc[i,1]/Number_venues_after)*100\n",
    "        text2 = '{} ({}%)'.format(int(df_plot.iloc[i,1]),round(percent,2))\n",
    "        ax.text(df_plot.iloc[i,0]+50,i+0.06 ,text2,size=8 )\n",
    "ax.set_xlim(0, 4300)\n",
    "ax.set_xlabel(\"Venues Nubmer\", fontsize=12)\n",
    "plt.title('Venues Number according to each category')\n",
    "plt.savefig('Venue_categories_Number_2.png',bbox_inches='tight')"
   ]
  },
  {
   "cell_type": "markdown",
   "metadata": {},
   "source": [
    "<a id='item3'></a>"
   ]
  },
  {
   "cell_type": "markdown",
   "metadata": {},
   "source": [
    "## 3. Application of the method"
   ]
  },
  {
   "cell_type": "markdown",
   "metadata": {},
   "source": [
    "Preparing data to for applying method"
   ]
  },
  {
   "cell_type": "code",
   "execution_count": 123,
   "metadata": {},
   "outputs": [],
   "source": [
    "df_onehot = pd.get_dummies(df_venues[['Venue Category']],prefix=\"\",prefix_sep=\"\")\n",
    "df_onehot.insert(0,'Neighborhoods',df_venues['Neighborhood'])"
   ]
  },
  {
   "cell_type": "code",
   "execution_count": 124,
   "metadata": {},
   "outputs": [],
   "source": [
    "df_grouped = df_onehot.groupby('Neighborhoods').sum().reset_index()"
   ]
  },
  {
   "cell_type": "markdown",
   "metadata": {},
   "source": [
    "Each cell represents the number of category number compared to aany neighborhood !!"
   ]
  },
  {
   "cell_type": "code",
   "execution_count": 125,
   "metadata": {},
   "outputs": [
    {
     "data": {
      "text/html": [
       "<div>\n",
       "<style scoped>\n",
       "    .dataframe tbody tr th:only-of-type {\n",
       "        vertical-align: middle;\n",
       "    }\n",
       "\n",
       "    .dataframe tbody tr th {\n",
       "        vertical-align: top;\n",
       "    }\n",
       "\n",
       "    .dataframe thead th {\n",
       "        text-align: right;\n",
       "    }\n",
       "</style>\n",
       "<table border=\"1\" class=\"dataframe\">\n",
       "  <thead>\n",
       "    <tr style=\"text-align: right;\">\n",
       "      <th></th>\n",
       "      <th>Neighborhoods</th>\n",
       "      <th>Accessories Store</th>\n",
       "      <th>Afghan Restaurant</th>\n",
       "      <th>African Restaurant</th>\n",
       "      <th>Alsatian Restaurant</th>\n",
       "      <th>American Restaurant</th>\n",
       "      <th>Antique Shop</th>\n",
       "      <th>Arepa Restaurant</th>\n",
       "      <th>Argentinian Restaurant</th>\n",
       "      <th>Arts &amp; Crafts Store</th>\n",
       "      <th>...</th>\n",
       "      <th>Turkish Restaurant</th>\n",
       "      <th>Udon Restaurant</th>\n",
       "      <th>Used Bookstore</th>\n",
       "      <th>Vegetarian / Vegan Restaurant</th>\n",
       "      <th>Venezuelan Restaurant</th>\n",
       "      <th>Video Game Store</th>\n",
       "      <th>Vietnamese Restaurant</th>\n",
       "      <th>Wine Bar</th>\n",
       "      <th>Wine Shop</th>\n",
       "      <th>Women's Store</th>\n",
       "    </tr>\n",
       "  </thead>\n",
       "  <tbody>\n",
       "    <tr>\n",
       "      <th>0</th>\n",
       "      <td>Amérique</td>\n",
       "      <td>0</td>\n",
       "      <td>0</td>\n",
       "      <td>0</td>\n",
       "      <td>0</td>\n",
       "      <td>0</td>\n",
       "      <td>0</td>\n",
       "      <td>0</td>\n",
       "      <td>0</td>\n",
       "      <td>0</td>\n",
       "      <td>...</td>\n",
       "      <td>0</td>\n",
       "      <td>0</td>\n",
       "      <td>0</td>\n",
       "      <td>0</td>\n",
       "      <td>0</td>\n",
       "      <td>0</td>\n",
       "      <td>0</td>\n",
       "      <td>0</td>\n",
       "      <td>0</td>\n",
       "      <td>0</td>\n",
       "    </tr>\n",
       "    <tr>\n",
       "      <th>1</th>\n",
       "      <td>Archives</td>\n",
       "      <td>0</td>\n",
       "      <td>0</td>\n",
       "      <td>0</td>\n",
       "      <td>0</td>\n",
       "      <td>0</td>\n",
       "      <td>0</td>\n",
       "      <td>0</td>\n",
       "      <td>0</td>\n",
       "      <td>0</td>\n",
       "      <td>...</td>\n",
       "      <td>0</td>\n",
       "      <td>0</td>\n",
       "      <td>0</td>\n",
       "      <td>0</td>\n",
       "      <td>0</td>\n",
       "      <td>0</td>\n",
       "      <td>0</td>\n",
       "      <td>2</td>\n",
       "      <td>0</td>\n",
       "      <td>0</td>\n",
       "    </tr>\n",
       "    <tr>\n",
       "      <th>2</th>\n",
       "      <td>Arsenal</td>\n",
       "      <td>0</td>\n",
       "      <td>0</td>\n",
       "      <td>0</td>\n",
       "      <td>0</td>\n",
       "      <td>0</td>\n",
       "      <td>0</td>\n",
       "      <td>0</td>\n",
       "      <td>0</td>\n",
       "      <td>0</td>\n",
       "      <td>...</td>\n",
       "      <td>0</td>\n",
       "      <td>0</td>\n",
       "      <td>0</td>\n",
       "      <td>2</td>\n",
       "      <td>0</td>\n",
       "      <td>0</td>\n",
       "      <td>0</td>\n",
       "      <td>1</td>\n",
       "      <td>0</td>\n",
       "      <td>0</td>\n",
       "    </tr>\n",
       "    <tr>\n",
       "      <th>3</th>\n",
       "      <td>Arts-et-Métiers</td>\n",
       "      <td>0</td>\n",
       "      <td>0</td>\n",
       "      <td>0</td>\n",
       "      <td>0</td>\n",
       "      <td>0</td>\n",
       "      <td>0</td>\n",
       "      <td>0</td>\n",
       "      <td>1</td>\n",
       "      <td>0</td>\n",
       "      <td>...</td>\n",
       "      <td>0</td>\n",
       "      <td>0</td>\n",
       "      <td>0</td>\n",
       "      <td>1</td>\n",
       "      <td>0</td>\n",
       "      <td>0</td>\n",
       "      <td>3</td>\n",
       "      <td>4</td>\n",
       "      <td>1</td>\n",
       "      <td>0</td>\n",
       "    </tr>\n",
       "    <tr>\n",
       "      <th>4</th>\n",
       "      <td>Auteuil</td>\n",
       "      <td>0</td>\n",
       "      <td>0</td>\n",
       "      <td>0</td>\n",
       "      <td>0</td>\n",
       "      <td>0</td>\n",
       "      <td>0</td>\n",
       "      <td>0</td>\n",
       "      <td>0</td>\n",
       "      <td>0</td>\n",
       "      <td>...</td>\n",
       "      <td>0</td>\n",
       "      <td>0</td>\n",
       "      <td>0</td>\n",
       "      <td>0</td>\n",
       "      <td>0</td>\n",
       "      <td>0</td>\n",
       "      <td>0</td>\n",
       "      <td>0</td>\n",
       "      <td>0</td>\n",
       "      <td>0</td>\n",
       "    </tr>\n",
       "  </tbody>\n",
       "</table>\n",
       "<p>5 rows × 234 columns</p>\n",
       "</div>"
      ],
      "text/plain": [
       "     Neighborhoods  Accessories Store  Afghan Restaurant  African Restaurant  \\\n",
       "0         Amérique                  0                  0                   0   \n",
       "1         Archives                  0                  0                   0   \n",
       "2          Arsenal                  0                  0                   0   \n",
       "3  Arts-et-Métiers                  0                  0                   0   \n",
       "4          Auteuil                  0                  0                   0   \n",
       "\n",
       "   Alsatian Restaurant  American Restaurant  Antique Shop  Arepa Restaurant  \\\n",
       "0                    0                    0             0                 0   \n",
       "1                    0                    0             0                 0   \n",
       "2                    0                    0             0                 0   \n",
       "3                    0                    0             0                 0   \n",
       "4                    0                    0             0                 0   \n",
       "\n",
       "   Argentinian Restaurant  Arts & Crafts Store  ...  Turkish Restaurant  \\\n",
       "0                       0                    0  ...                   0   \n",
       "1                       0                    0  ...                   0   \n",
       "2                       0                    0  ...                   0   \n",
       "3                       1                    0  ...                   0   \n",
       "4                       0                    0  ...                   0   \n",
       "\n",
       "   Udon Restaurant  Used Bookstore  Vegetarian / Vegan Restaurant  \\\n",
       "0                0               0                              0   \n",
       "1                0               0                              0   \n",
       "2                0               0                              2   \n",
       "3                0               0                              1   \n",
       "4                0               0                              0   \n",
       "\n",
       "   Venezuelan Restaurant  Video Game Store  Vietnamese Restaurant  Wine Bar  \\\n",
       "0                      0                 0                      0         0   \n",
       "1                      0                 0                      0         2   \n",
       "2                      0                 0                      0         1   \n",
       "3                      0                 0                      3         4   \n",
       "4                      0                 0                      0         0   \n",
       "\n",
       "   Wine Shop  Women's Store  \n",
       "0          0              0  \n",
       "1          0              0  \n",
       "2          0              0  \n",
       "3          1              0  \n",
       "4          0              0  \n",
       "\n",
       "[5 rows x 234 columns]"
      ]
     },
     "execution_count": 125,
     "metadata": {},
     "output_type": "execute_result"
    }
   ],
   "source": [
    "df_grouped.head()"
   ]
  },
  {
   "cell_type": "markdown",
   "metadata": {},
   "source": [
    "Let's see the first ten venues categories for each neighborhood"
   ]
  },
  {
   "cell_type": "code",
   "execution_count": 126,
   "metadata": {},
   "outputs": [],
   "source": [
    "def return_most_common_venues(row, num_top_venues):\n",
    "    row_categories = row.iloc[1:]\n",
    "    row_categories_sorted = row_categories.sort_values(ascending=False)\n",
    "    \n",
    "    return row_categories_sorted.index.values[0:num_top_venues]"
   ]
  },
  {
   "cell_type": "code",
   "execution_count": 127,
   "metadata": {},
   "outputs": [],
   "source": [
    "import numpy as np"
   ]
  },
  {
   "cell_type": "code",
   "execution_count": 128,
   "metadata": {},
   "outputs": [
    {
     "data": {
      "text/html": [
       "<div>\n",
       "<style scoped>\n",
       "    .dataframe tbody tr th:only-of-type {\n",
       "        vertical-align: middle;\n",
       "    }\n",
       "\n",
       "    .dataframe tbody tr th {\n",
       "        vertical-align: top;\n",
       "    }\n",
       "\n",
       "    .dataframe thead th {\n",
       "        text-align: right;\n",
       "    }\n",
       "</style>\n",
       "<table border=\"1\" class=\"dataframe\">\n",
       "  <thead>\n",
       "    <tr style=\"text-align: right;\">\n",
       "      <th></th>\n",
       "      <th>Neighborhoods</th>\n",
       "      <th>1st Most Common Venue</th>\n",
       "      <th>2nd Most Common Venue</th>\n",
       "      <th>3rd Most Common Venue</th>\n",
       "      <th>4th Most Common Venue</th>\n",
       "      <th>5th Most Common Venue</th>\n",
       "      <th>6th Most Common Venue</th>\n",
       "      <th>7th Most Common Venue</th>\n",
       "      <th>8th Most Common Venue</th>\n",
       "      <th>9th Most Common Venue</th>\n",
       "      <th>10th Most Common Venue</th>\n",
       "    </tr>\n",
       "  </thead>\n",
       "  <tbody>\n",
       "    <tr>\n",
       "      <th>0</th>\n",
       "      <td>Amérique</td>\n",
       "      <td>French Restaurant</td>\n",
       "      <td>Café</td>\n",
       "      <td>Grocery Store</td>\n",
       "      <td>Bakery</td>\n",
       "      <td>Pizza Place</td>\n",
       "      <td>Brewery</td>\n",
       "      <td>Supermarket</td>\n",
       "      <td>Bistro</td>\n",
       "      <td>Ethiopian Restaurant</td>\n",
       "      <td>Fabric Shop</td>\n",
       "    </tr>\n",
       "    <tr>\n",
       "      <th>1</th>\n",
       "      <td>Archives</td>\n",
       "      <td>French Restaurant</td>\n",
       "      <td>Clothing Store</td>\n",
       "      <td>Cocktail Bar</td>\n",
       "      <td>Pastry Shop</td>\n",
       "      <td>Coffee Shop</td>\n",
       "      <td>Bookstore</td>\n",
       "      <td>Creperie</td>\n",
       "      <td>Café</td>\n",
       "      <td>Bistro</td>\n",
       "      <td>Tea Room</td>\n",
       "    </tr>\n",
       "    <tr>\n",
       "      <th>2</th>\n",
       "      <td>Arsenal</td>\n",
       "      <td>French Restaurant</td>\n",
       "      <td>Italian Restaurant</td>\n",
       "      <td>Gastropub</td>\n",
       "      <td>Hotel</td>\n",
       "      <td>Cocktail Bar</td>\n",
       "      <td>Bakery</td>\n",
       "      <td>Thai Restaurant</td>\n",
       "      <td>Coffee Shop</td>\n",
       "      <td>Vegetarian / Vegan Restaurant</td>\n",
       "      <td>Seafood Restaurant</td>\n",
       "    </tr>\n",
       "    <tr>\n",
       "      <th>3</th>\n",
       "      <td>Arts-et-Métiers</td>\n",
       "      <td>French Restaurant</td>\n",
       "      <td>Hotel</td>\n",
       "      <td>Japanese Restaurant</td>\n",
       "      <td>Wine Bar</td>\n",
       "      <td>Bar</td>\n",
       "      <td>Italian Restaurant</td>\n",
       "      <td>Coffee Shop</td>\n",
       "      <td>Cocktail Bar</td>\n",
       "      <td>Restaurant</td>\n",
       "      <td>Chinese Restaurant</td>\n",
       "    </tr>\n",
       "    <tr>\n",
       "      <th>4</th>\n",
       "      <td>Auteuil</td>\n",
       "      <td>Outdoors &amp; Recreation</td>\n",
       "      <td>Restaurant</td>\n",
       "      <td>Circus</td>\n",
       "      <td>Women's Store</td>\n",
       "      <td>EV Charging Station</td>\n",
       "      <td>Fish Market</td>\n",
       "      <td>Fish &amp; Chips Shop</td>\n",
       "      <td>Fast Food Restaurant</td>\n",
       "      <td>Farmers Market</td>\n",
       "      <td>Falafel Restaurant</td>\n",
       "    </tr>\n",
       "  </tbody>\n",
       "</table>\n",
       "</div>"
      ],
      "text/plain": [
       "     Neighborhoods  1st Most Common Venue 2nd Most Common Venue  \\\n",
       "0         Amérique      French Restaurant                  Café   \n",
       "1         Archives      French Restaurant        Clothing Store   \n",
       "2          Arsenal      French Restaurant    Italian Restaurant   \n",
       "3  Arts-et-Métiers      French Restaurant                 Hotel   \n",
       "4          Auteuil  Outdoors & Recreation            Restaurant   \n",
       "\n",
       "  3rd Most Common Venue 4th Most Common Venue 5th Most Common Venue  \\\n",
       "0         Grocery Store                Bakery           Pizza Place   \n",
       "1          Cocktail Bar           Pastry Shop           Coffee Shop   \n",
       "2             Gastropub                 Hotel          Cocktail Bar   \n",
       "3   Japanese Restaurant              Wine Bar                   Bar   \n",
       "4                Circus         Women's Store   EV Charging Station   \n",
       "\n",
       "  6th Most Common Venue 7th Most Common Venue 8th Most Common Venue  \\\n",
       "0               Brewery           Supermarket                Bistro   \n",
       "1             Bookstore              Creperie                  Café   \n",
       "2                Bakery       Thai Restaurant           Coffee Shop   \n",
       "3    Italian Restaurant           Coffee Shop          Cocktail Bar   \n",
       "4           Fish Market     Fish & Chips Shop  Fast Food Restaurant   \n",
       "\n",
       "           9th Most Common Venue 10th Most Common Venue  \n",
       "0           Ethiopian Restaurant            Fabric Shop  \n",
       "1                         Bistro               Tea Room  \n",
       "2  Vegetarian / Vegan Restaurant     Seafood Restaurant  \n",
       "3                     Restaurant     Chinese Restaurant  \n",
       "4                 Farmers Market     Falafel Restaurant  "
      ]
     },
     "execution_count": 128,
     "metadata": {},
     "output_type": "execute_result"
    }
   ],
   "source": [
    "num_top_venues = 10\n",
    "\n",
    "indicators = ['st', 'nd', 'rd']\n",
    "\n",
    "# create columns according to number of top venues\n",
    "columns = ['Neighborhoods']\n",
    "for ind in np.arange(num_top_venues):\n",
    "    try:\n",
    "        columns.append('{}{} Most Common Venue'.format(ind+1, indicators[ind]))\n",
    "    except:\n",
    "        columns.append('{}th Most Common Venue'.format(ind+1))\n",
    "\n",
    "# create a new dataframe\n",
    "neighborhoods_venues_sorted = pd.DataFrame(columns=columns)\n",
    "neighborhoods_venues_sorted['Neighborhoods'] = df_grouped['Neighborhoods']\n",
    "\n",
    "for ind in np.arange(df_grouped.shape[0]):\n",
    "    neighborhoods_venues_sorted.iloc[ind, 1:] = return_most_common_venues(df_grouped.iloc[ind, :], num_top_venues)\n",
    "\n",
    "neighborhoods_venues_sorted.head(5)"
   ]
  },
  {
   "cell_type": "markdown",
   "metadata": {},
   "source": [
    "Now , let's apply the k-means algorithm "
   ]
  },
  {
   "cell_type": "code",
   "execution_count": 129,
   "metadata": {},
   "outputs": [],
   "source": [
    "import matplotlib.pyplot as plt\n",
    "\n",
    "import matplotlib.cm as cm\n",
    "import matplotlib.colors as colors\n",
    "\n",
    "# import k-means from clustering stage\n",
    "from sklearn.cluster import KMeans\n",
    "from sklearn.preprocessing import StandardScaler\n"
   ]
  },
  {
   "cell_type": "markdown",
   "metadata": {},
   "source": [
    "Add population feature to the Dataframe  "
   ]
  },
  {
   "cell_type": "code",
   "execution_count": 130,
   "metadata": {},
   "outputs": [],
   "source": [
    "df_grouped = df_grouped.merge(df_Paris[['Neighborhood','Population']],left_on='Neighborhoods',right_on='Neighborhood')\\\n",
    "[list(df_grouped.columns)+['Population']]"
   ]
  },
  {
   "cell_type": "code",
   "execution_count": 131,
   "metadata": {},
   "outputs": [],
   "source": [
    "df_grouped_clustering = df_grouped.drop('Neighborhoods', 1)\n",
    "Sum_of_squared_distances = []\n",
    "K = range(1,10)\n",
    "for k in K:\n",
    "    km = KMeans(n_clusters=k)\n",
    "    km = km.fit(df_grouped_clustering)\n",
    "    Sum_of_squared_distances.append(km.inertia_)"
   ]
  },
  {
   "cell_type": "code",
   "execution_count": 132,
   "metadata": {},
   "outputs": [
    {
     "data": {
      "image/png": "[encoded data removed]",
      "text/plain": [
       "<Figure size 432x288 with 1 Axes>"
      ]
     },
     "metadata": {
      "needs_background": "light"
     },
     "output_type": "display_data"
    }
   ],
   "source": [
    "fig, ax = plt.subplots(figsize=(6,4))\n",
    "plt.plot(K, Sum_of_squared_distances, 'bx-')\n",
    "plt.xlabel('k')\n",
    "plt.ylabel('Sum of Squared Distances')\n",
    "plt.title('Elbow Method For Optimal k')\n",
    "plt.scatter(4, Sum_of_squared_distances[4]+100000000, s=350, facecolors='none', edgecolors='r')\n",
    "plt.savefig('Elbow_Method_For_Optimal.png',bbox_inches='tight')"
   ]
  },
  {
   "cell_type": "markdown",
   "metadata": {},
   "source": [
    "According to Elbow method the best k is 4"
   ]
  },
  {
   "cell_type": "markdown",
   "metadata": {},
   "source": [
    "Let's apply k-means with k=4"
   ]
  },
  {
   "cell_type": "code",
   "execution_count": 133,
   "metadata": {},
   "outputs": [],
   "source": [
    "kclusters = 4\n",
    "# run k-means clustering\n",
    "kmeans = KMeans(n_clusters=kclusters,).fit(df_grouped_clustering)\n"
   ]
  },
  {
   "cell_type": "markdown",
   "metadata": {},
   "source": [
    "Insert labels to Dataframes"
   ]
  },
  {
   "cell_type": "code",
   "execution_count": 134,
   "metadata": {},
   "outputs": [],
   "source": [
    "df_grouped_clustering.insert(0, 'Cluster Labels', kmeans.labels_)\n",
    "neighborhoods_venues_sorted.insert(0, 'Cluster Labels', kmeans.labels_)"
   ]
  },
  {
   "cell_type": "markdown",
   "metadata": {},
   "source": [
    "Merge data into a single dataframe"
   ]
  },
  {
   "cell_type": "code",
   "execution_count": 135,
   "metadata": {},
   "outputs": [],
   "source": [
    "df_merged = df_Paris\n",
    "df_merged = df_merged.merge(neighborhoods_venues_sorted, right_on='Neighborhoods',left_on ='Neighborhood')"
   ]
  },
  {
   "cell_type": "code",
   "execution_count": 136,
   "metadata": {},
   "outputs": [
    {
     "data": {
      "text/html": [
       "<div>\n",
       "<style scoped>\n",
       "    .dataframe tbody tr th:only-of-type {\n",
       "        vertical-align: middle;\n",
       "    }\n",
       "\n",
       "    .dataframe tbody tr th {\n",
       "        vertical-align: top;\n",
       "    }\n",
       "\n",
       "    .dataframe thead th {\n",
       "        text-align: right;\n",
       "    }\n",
       "</style>\n",
       "<table border=\"1\" class=\"dataframe\">\n",
       "  <thead>\n",
       "    <tr style=\"text-align: right;\">\n",
       "      <th></th>\n",
       "      <th>borough</th>\n",
       "      <th>Rank</th>\n",
       "      <th>Neighborhood</th>\n",
       "      <th>Population</th>\n",
       "      <th>Area</th>\n",
       "      <th>Density</th>\n",
       "      <th>Longitude</th>\n",
       "      <th>Latitude</th>\n",
       "      <th>Distance_center</th>\n",
       "      <th>Cluster Labels</th>\n",
       "      <th>...</th>\n",
       "      <th>1st Most Common Venue</th>\n",
       "      <th>2nd Most Common Venue</th>\n",
       "      <th>3rd Most Common Venue</th>\n",
       "      <th>4th Most Common Venue</th>\n",
       "      <th>5th Most Common Venue</th>\n",
       "      <th>6th Most Common Venue</th>\n",
       "      <th>7th Most Common Venue</th>\n",
       "      <th>8th Most Common Venue</th>\n",
       "      <th>9th Most Common Venue</th>\n",
       "      <th>10th Most Common Venue</th>\n",
       "    </tr>\n",
       "  </thead>\n",
       "  <tbody>\n",
       "    <tr>\n",
       "      <th>0</th>\n",
       "      <td>1er arrondissementdit « du Louvre »</td>\n",
       "      <td>1er</td>\n",
       "      <td>Saint-Germain-l'Auxerrois</td>\n",
       "      <td>1672</td>\n",
       "      <td>86,9</td>\n",
       "      <td>1 924</td>\n",
       "      <td>2.340195</td>\n",
       "      <td>48.860112</td>\n",
       "      <td>0.916353</td>\n",
       "      <td>0</td>\n",
       "      <td>...</td>\n",
       "      <td>French Restaurant</td>\n",
       "      <td>Hotel</td>\n",
       "      <td>Pizza Place</td>\n",
       "      <td>Bar</td>\n",
       "      <td>Italian Restaurant</td>\n",
       "      <td>Café</td>\n",
       "      <td>Clothing Store</td>\n",
       "      <td>Wine Bar</td>\n",
       "      <td>Steakhouse</td>\n",
       "      <td>Restaurant</td>\n",
       "    </tr>\n",
       "    <tr>\n",
       "      <th>1</th>\n",
       "      <td>1er arrondissementdit « du Louvre »</td>\n",
       "      <td>2e</td>\n",
       "      <td>Halles</td>\n",
       "      <td>8984</td>\n",
       "      <td>41,2</td>\n",
       "      <td>21 806</td>\n",
       "      <td>2.344744</td>\n",
       "      <td>48.862541</td>\n",
       "      <td>0.824991</td>\n",
       "      <td>0</td>\n",
       "      <td>...</td>\n",
       "      <td>French Restaurant</td>\n",
       "      <td>Italian Restaurant</td>\n",
       "      <td>Pizza Place</td>\n",
       "      <td>Hotel</td>\n",
       "      <td>Bakery</td>\n",
       "      <td>Bar</td>\n",
       "      <td>Café</td>\n",
       "      <td>Tea Room</td>\n",
       "      <td>Steakhouse</td>\n",
       "      <td>Spa</td>\n",
       "    </tr>\n",
       "  </tbody>\n",
       "</table>\n",
       "<p>2 rows × 21 columns</p>\n",
       "</div>"
      ],
      "text/plain": [
       "                               borough Rank               Neighborhood  \\\n",
       "0  1er arrondissementdit « du Louvre »  1er  Saint-Germain-l'Auxerrois   \n",
       "1  1er arrondissementdit « du Louvre »   2e                     Halles   \n",
       "\n",
       "   Population  Area Density  Longitude   Latitude  Distance_center  \\\n",
       "0        1672  86,9   1 924   2.340195  48.860112         0.916353   \n",
       "1        8984  41,2  21 806   2.344744  48.862541         0.824991   \n",
       "\n",
       "   Cluster Labels  ... 1st Most Common Venue 2nd Most Common Venue  \\\n",
       "0               0  ...     French Restaurant                 Hotel   \n",
       "1               0  ...     French Restaurant    Italian Restaurant   \n",
       "\n",
       "  3rd Most Common Venue 4th Most Common Venue 5th Most Common Venue  \\\n",
       "0           Pizza Place                   Bar    Italian Restaurant   \n",
       "1           Pizza Place                 Hotel                Bakery   \n",
       "\n",
       "  6th Most Common Venue 7th Most Common Venue 8th Most Common Venue  \\\n",
       "0                  Café        Clothing Store              Wine Bar   \n",
       "1                   Bar                  Café              Tea Room   \n",
       "\n",
       "  9th Most Common Venue 10th Most Common Venue  \n",
       "0            Steakhouse             Restaurant  \n",
       "1            Steakhouse                    Spa  \n",
       "\n",
       "[2 rows x 21 columns]"
      ]
     },
     "execution_count": 136,
     "metadata": {},
     "output_type": "execute_result"
    }
   ],
   "source": [
    "df_merged.head(2)"
   ]
  },
  {
   "cell_type": "code",
   "execution_count": 137,
   "metadata": {},
   "outputs": [
    {
     "data": {
      "text/plain": [
       "0    30\n",
       "3    21\n",
       "2    18\n",
       "1    11\n",
       "Name: Cluster Labels, dtype: int64"
      ]
     },
     "execution_count": 137,
     "metadata": {},
     "output_type": "execute_result"
    }
   ],
   "source": [
    "df_merged['Cluster Labels'].value_counts()"
   ]
  },
  {
   "cell_type": "markdown",
   "metadata": {},
   "source": [
    "Let's see the Paris map with colored clusters "
   ]
  },
  {
   "cell_type": "code",
   "execution_count": 138,
   "metadata": {},
   "outputs": [
    {
     "data": {
      "text/html": [
       "<div style=\"width:100%;\"><div style=\"position:relative;width:100%;height:0;padding-bottom:60%;\"><iframe src=\"data:text/html;charset=utf-8;base64,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\" style=\"position:absolute;width:100%;height:100%;left:0;top:0;border:none !important;\" allowfullscreen webkitallowfullscreen mozallowfullscreen></iframe></div></div>"
      ],
      "text/plain": [
       "<folium.folium.Map at 0x7fcf8b591940>"
      ]
     },
     "execution_count": 138,
     "metadata": {},
     "output_type": "execute_result"
    }
   ],
   "source": [
    "import folium\n",
    "map_clusters_paris = folium.Map(location=[latitude, longitude], zoom_start=11)\n",
    "\n",
    "# set color scheme for the clusters\n",
    "x = np.arange(kclusters)\n",
    "ys = [i + x + (i*x)**2 for i in range(kclusters)]\n",
    "colors_array = cm.rainbow(np.linspace(0, 1, len(ys)))\n",
    "rainbow = [colors.rgb2hex(i) for i in colors_array]\n",
    "rainbow = ['Blueviolet','Deepskyblue','Limegreen','Red']\n",
    "df_merged_paris = df_merged\n",
    "# add markers to the map\n",
    "markers_colors = []\n",
    "for lat, lon, poi, cluster in zip(df_merged_paris['Latitude'], df_merged_paris['Longitude'], \\\n",
    "                                  df_merged_paris['Neighborhood'], df_merged_paris['Cluster Labels']):\n",
    "    label = folium.Popup(str(poi) + ' Cluster ' + str(cluster), parse_html=True)\n",
    "    folium.CircleMarker(\n",
    "        [lat, lon],\n",
    "        radius=5,\n",
    "        popup=label,\n",
    "        color=rainbow[cluster],\n",
    "        fill=True,\n",
    "        fill_color=rainbow[cluster],\n",
    "        fill_opacity=0.7).add_to(map_clusters_paris)\n",
    "\n",
    "#Add legend    \n",
    "markers_legend = []\n",
    "for i in range (len(rainbow)):\n",
    "    markers_legend.append('&nbsp; Cluster {}&nbsp; <i class=\"fa fa-circle fa-1x\" style=\"color:{}\"></i><br>'.format(i,rainbow[i]))\n",
    "\n",
    "\n",
    "legend_html = '''\n",
    "     <div style=\"position: fixed; \n",
    "     bottom: 50px; left: 50px; width: 90px; min-height: 10px ;overflow: hidden; \n",
    "     border:2px solid grey; z-index:1000; font-size:13px; background-color: rgba(255, 255, 255, 0.6);\n",
    "     \"<br> '''\n",
    "     #&nbsp; Cluster 0&nbsp; <i class=\"fa fa-circle fa-1x\"\n",
    "      #            style=\"color:#8000ff\"></i><br>\n",
    "     #&nbsp; Cluster 1&nbsp; <i class=\"fa fa-circle fa-1x\"\n",
    "      #            style=\"color:red\"></i>\n",
    "      #</div>\n",
    "     #'''\n",
    "legend_html = legend_html + '\\n'.join(markers_legend) + '</div>'\n",
    "map_clusters_paris.get_root().html.add_child(folium.Element(legend_html))\n",
    "map_clusters_paris       \n",
    "map_clusters_paris"
   ]
  },
  {
   "cell_type": "markdown",
   "metadata": {},
   "source": [
    "Analyse result"
   ]
  },
  {
   "cell_type": "markdown",
   "metadata": {},
   "source": [
    "See the Population distribution according to each cluster"
   ]
  },
  {
   "cell_type": "code",
   "execution_count": 139,
   "metadata": {},
   "outputs": [],
   "source": [
    "dfclusters = df_grouped_clustering.groupby(['Cluster Labels']).mean().reset_index()"
   ]
  },
  {
   "cell_type": "code",
   "execution_count": 140,
   "metadata": {},
   "outputs": [],
   "source": [
    "def get_cluster_population(i):\n",
    "    return df_grouped_clustering[df_grouped_clustering['Cluster Labels'] == i ].Population"
   ]
  },
  {
   "cell_type": "code",
   "execution_count": null,
   "metadata": {},
   "outputs": [],
   "source": []
  },
  {
   "cell_type": "code",
   "execution_count": 141,
   "metadata": {},
   "outputs": [
    {
     "data": {
      "image/png": "[encoded data removed]",
      "text/plain": [
       "<Figure size 432x288 with 1 Axes>"
      ]
     },
     "metadata": {
      "needs_background": "light"
     },
     "output_type": "display_data"
    }
   ],
   "source": [
    "fig, ax = plt.subplots(figsize=(6,4))\n",
    "props = {'ha': 'left', 'va': 'bottom'}\n",
    "for i in range(kclusters):\n",
    "    ser = get_cluster_population(i)\n",
    "    mini = ser.min()\n",
    "    maxi = ser.max()\n",
    "    number_neighborhood = len(ser)\n",
    "    name = \"Cluster {}\".format(i)\n",
    "    ax = sns.distplot(ser,bins=1,kde=False,color=rainbow[i],hist_kws=dict(alpha=1),label=name) \n",
    "    ax.text(mini,number_neighborhood,mini,horizontalalignment='left',verticalalignment='bottom',rotation=45,\\\n",
    "           size=9)\n",
    "    ax.text(maxi,number_neighborhood,maxi,horizontalalignment='left',verticalalignment='bottom',rotation=45,\\\n",
    "           size=9)\n",
    "    pointx = (maxi+mini)/2\n",
    "    pointy = number_neighborhood/2\n",
    "    ax.text( pointx,pointy,number_neighborhood,color='w',horizontalalignment='center')\n",
    "    #plt.scatter(((maxi+mini)/2),(number_neighborhood/2.0), s=150, facecolors='red', edgecolors='none')\n",
    "    plt.scatter(mini, number_neighborhood, s=3, facecolors='black', edgecolors='none')\n",
    "    plt.scatter(maxi, number_neighborhood, s=3, facecolors='black', edgecolors='none')\n",
    "ax.set_xlim(0, 90000)\n",
    "ax.set_ylim(0, 40)\n",
    "plt.ylabel('Neighborhood Number')\n",
    "ax.legend()\n",
    "ax.locator_params(axis='x', nbins=6)\n",
    "plt.title('Population Histogram by Clusters')\n",
    "plt.savefig('Population_distribution.png',bbox_inches='tight')\n",
    "plt.show()"
   ]
  },
  {
   "cell_type": "markdown",
   "metadata": {},
   "source": [
    "Let's the Number of venues according to each cluster"
   ]
  },
  {
   "cell_type": "markdown",
   "metadata": {},
   "source": [
    "Get the number of venues for each category according to a cluster"
   ]
  },
  {
   "cell_type": "code",
   "execution_count": 142,
   "metadata": {},
   "outputs": [],
   "source": [
    "def category_distrubution(num_cluster): # \n",
    "    Cluster_top_category = {}\n",
    "    keys = list(dict_categories_filter.keys())\n",
    "    Cluster_top_category = {key: 0 for key in keys}\n",
    "    for c in list_category_venues :\n",
    "        val = dfclusters.iloc[num_cluster][c]\n",
    "        top_category = check_categories(c)\n",
    "        Cluster_top_category[top_category] +=val\n",
    "\n",
    "    Cluster_top_category = pd.Series(Cluster_top_category)\n",
    "    return Cluster_top_category[Cluster_top_category>0]\n",
    "    "
   ]
  },
  {
   "cell_type": "code",
   "execution_count": 143,
   "metadata": {},
   "outputs": [
    {
     "data": {
      "text/html": [
       "<div>\n",
       "<style scoped>\n",
       "    .dataframe tbody tr th:only-of-type {\n",
       "        vertical-align: middle;\n",
       "    }\n",
       "\n",
       "    .dataframe tbody tr th {\n",
       "        vertical-align: top;\n",
       "    }\n",
       "\n",
       "    .dataframe thead th {\n",
       "        text-align: right;\n",
       "    }\n",
       "</style>\n",
       "<table border=\"1\" class=\"dataframe\">\n",
       "  <thead>\n",
       "    <tr style=\"text-align: right;\">\n",
       "      <th></th>\n",
       "      <th>cluster 0</th>\n",
       "      <th>cluster 1</th>\n",
       "      <th>cluster 2</th>\n",
       "      <th>cluster 3</th>\n",
       "    </tr>\n",
       "  </thead>\n",
       "  <tbody>\n",
       "    <tr>\n",
       "      <th>Food</th>\n",
       "      <td>50.933333</td>\n",
       "      <td>27.727273</td>\n",
       "      <td>30.277778</td>\n",
       "      <td>42.857143</td>\n",
       "    </tr>\n",
       "    <tr>\n",
       "      <th>Shop &amp; Service</th>\n",
       "      <td>14.700000</td>\n",
       "      <td>6.272727</td>\n",
       "      <td>4.555556</td>\n",
       "      <td>6.238095</td>\n",
       "    </tr>\n",
       "    <tr>\n",
       "      <th>Nightlife Spot</th>\n",
       "      <td>8.466667</td>\n",
       "      <td>4.818182</td>\n",
       "      <td>6.166667</td>\n",
       "      <td>7.047619</td>\n",
       "    </tr>\n",
       "    <tr>\n",
       "      <th>Travel &amp; Transport</th>\n",
       "      <td>7.566667</td>\n",
       "      <td>3.545455</td>\n",
       "      <td>2.944444</td>\n",
       "      <td>6.333333</td>\n",
       "    </tr>\n",
       "    <tr>\n",
       "      <th>Arts &amp; Entertainment</th>\n",
       "      <td>0.733333</td>\n",
       "      <td>0.454545</td>\n",
       "      <td>0.055556</td>\n",
       "      <td>0.619048</td>\n",
       "    </tr>\n",
       "    <tr>\n",
       "      <th>Outdoors &amp; Recreation</th>\n",
       "      <td>0.466667</td>\n",
       "      <td>0.545455</td>\n",
       "      <td>0.888889</td>\n",
       "      <td>0.619048</td>\n",
       "    </tr>\n",
       "  </tbody>\n",
       "</table>\n",
       "</div>"
      ],
      "text/plain": [
       "                       cluster 0  cluster 1  cluster 2  cluster 3\n",
       "Food                   50.933333  27.727273  30.277778  42.857143\n",
       "Shop & Service         14.700000   6.272727   4.555556   6.238095\n",
       "Nightlife Spot          8.466667   4.818182   6.166667   7.047619\n",
       "Travel & Transport      7.566667   3.545455   2.944444   6.333333\n",
       "Arts & Entertainment    0.733333   0.454545   0.055556   0.619048\n",
       "Outdoors & Recreation   0.466667   0.545455   0.888889   0.619048"
      ]
     },
     "execution_count": 143,
     "metadata": {},
     "output_type": "execute_result"
    }
   ],
   "source": [
    "list_category_venues = list(df_grouped_clustering.columns)[1:-1]\n",
    "df_result = pd.DataFrame(index=list(dict_categories_filter.keys()))\n",
    "for i in range(kclusters):\n",
    " x = category_distrubution(i).sort_values(ascending=False)\n",
    " x.name = \"cluster \"+str(i)\n",
    " df_result = df_result.join(x)\n",
    "df_result.sort_values('cluster 0',axis=0,ascending=False,inplace=True)\n",
    "\n",
    "\n",
    "df_result"
   ]
  },
  {
   "cell_type": "markdown",
   "metadata": {},
   "source": [
    "Get the number of top 5 venues according to each cluster for food category "
   ]
  },
  {
   "cell_type": "code",
   "execution_count": 144,
   "metadata": {},
   "outputs": [
    {
     "data": {
      "image/png": "[encoded data removed]",
      "text/plain": [
       "<Figure size 720x360 with 1 Axes>"
      ]
     },
     "metadata": {
      "needs_background": "light"
     },
     "output_type": "display_data"
    }
   ],
   "source": [
    "ax = df_result.plot.bar(color=rainbow,figsize=(10,5))\n",
    "ax.set_ylabel(\"Venues Nubmer\", fontsize=12)\n",
    "plt.title('Venues Number by category for each Cluster')\n",
    "plt.savefig('Figure1_result.png',bbox_inches='tight')  "
   ]
  },
  {
   "cell_type": "code",
   "execution_count": 145,
   "metadata": {},
   "outputs": [],
   "source": [
    "def intersection(lst1, lst2): \n",
    "    lst3 = [value for value in lst1 if value in lst2] \n",
    "    return lst3"
   ]
  },
  {
   "cell_type": "code",
   "execution_count": 146,
   "metadata": {},
   "outputs": [],
   "source": [
    "list_food = intersection(dict_categories_filter['Food'], list(dfclusters.columns))"
   ]
  },
  {
   "cell_type": "code",
   "execution_count": null,
   "metadata": {},
   "outputs": [],
   "source": []
  },
  {
   "cell_type": "code",
   "execution_count": 153,
   "metadata": {},
   "outputs": [],
   "source": [
    "res = pd.DataFrame()\n",
    "for i in range(kclusters):\n",
    "    x = dfclusters.iloc[i,0:-1].sort_values(ascending=False).head()\n",
    "    x = x.to_frame(name='Number Venues')\n",
    "    x['Cluster'] = 'Cluster {}'.format(i)\n",
    "    x = x.rename_axis('sub_category').reset_index()\n",
    "    res = res.append(x)"
   ]
  },
  {
   "cell_type": "code",
   "execution_count": 154,
   "metadata": {},
   "outputs": [
    {
     "data": {
      "text/html": [
       "<div>\n",
       "<style scoped>\n",
       "    .dataframe tbody tr th:only-of-type {\n",
       "        vertical-align: middle;\n",
       "    }\n",
       "\n",
       "    .dataframe tbody tr th {\n",
       "        vertical-align: top;\n",
       "    }\n",
       "\n",
       "    .dataframe thead th {\n",
       "        text-align: right;\n",
       "    }\n",
       "</style>\n",
       "<table border=\"1\" class=\"dataframe\">\n",
       "  <thead>\n",
       "    <tr style=\"text-align: right;\">\n",
       "      <th></th>\n",
       "      <th>sub_category</th>\n",
       "      <th>Number Venues</th>\n",
       "      <th>Cluster</th>\n",
       "    </tr>\n",
       "  </thead>\n",
       "  <tbody>\n",
       "    <tr>\n",
       "      <th>0</th>\n",
       "      <td>French Restaurant</td>\n",
       "      <td>11.800000</td>\n",
       "      <td>Cluster 0</td>\n",
       "    </tr>\n",
       "    <tr>\n",
       "      <th>1</th>\n",
       "      <td>Hotel</td>\n",
       "      <td>7.500000</td>\n",
       "      <td>Cluster 0</td>\n",
       "    </tr>\n",
       "    <tr>\n",
       "      <th>2</th>\n",
       "      <td>Italian Restaurant</td>\n",
       "      <td>3.466667</td>\n",
       "      <td>Cluster 0</td>\n",
       "    </tr>\n",
       "    <tr>\n",
       "      <th>3</th>\n",
       "      <td>Japanese Restaurant</td>\n",
       "      <td>2.366667</td>\n",
       "      <td>Cluster 0</td>\n",
       "    </tr>\n",
       "    <tr>\n",
       "      <th>4</th>\n",
       "      <td>Café</td>\n",
       "      <td>2.233333</td>\n",
       "      <td>Cluster 0</td>\n",
       "    </tr>\n",
       "    <tr>\n",
       "      <th>0</th>\n",
       "      <td>French Restaurant</td>\n",
       "      <td>7.363636</td>\n",
       "      <td>Cluster 1</td>\n",
       "    </tr>\n",
       "    <tr>\n",
       "      <th>1</th>\n",
       "      <td>Hotel</td>\n",
       "      <td>3.363636</td>\n",
       "      <td>Cluster 1</td>\n",
       "    </tr>\n",
       "    <tr>\n",
       "      <th>2</th>\n",
       "      <td>Bar</td>\n",
       "      <td>3.363636</td>\n",
       "      <td>Cluster 1</td>\n",
       "    </tr>\n",
       "    <tr>\n",
       "      <th>3</th>\n",
       "      <td>Café</td>\n",
       "      <td>2.090909</td>\n",
       "      <td>Cluster 1</td>\n",
       "    </tr>\n",
       "    <tr>\n",
       "      <th>4</th>\n",
       "      <td>Bistro</td>\n",
       "      <td>1.727273</td>\n",
       "      <td>Cluster 1</td>\n",
       "    </tr>\n",
       "    <tr>\n",
       "      <th>0</th>\n",
       "      <td>French Restaurant</td>\n",
       "      <td>7.500000</td>\n",
       "      <td>Cluster 2</td>\n",
       "    </tr>\n",
       "    <tr>\n",
       "      <th>1</th>\n",
       "      <td>Bar</td>\n",
       "      <td>3.222222</td>\n",
       "      <td>Cluster 2</td>\n",
       "    </tr>\n",
       "    <tr>\n",
       "      <th>2</th>\n",
       "      <td>Hotel</td>\n",
       "      <td>2.666667</td>\n",
       "      <td>Cluster 2</td>\n",
       "    </tr>\n",
       "    <tr>\n",
       "      <th>3</th>\n",
       "      <td>Italian Restaurant</td>\n",
       "      <td>2.111111</td>\n",
       "      <td>Cluster 2</td>\n",
       "    </tr>\n",
       "    <tr>\n",
       "      <th>4</th>\n",
       "      <td>Cluster Labels</td>\n",
       "      <td>2.000000</td>\n",
       "      <td>Cluster 2</td>\n",
       "    </tr>\n",
       "    <tr>\n",
       "      <th>0</th>\n",
       "      <td>French Restaurant</td>\n",
       "      <td>9.476190</td>\n",
       "      <td>Cluster 3</td>\n",
       "    </tr>\n",
       "    <tr>\n",
       "      <th>1</th>\n",
       "      <td>Hotel</td>\n",
       "      <td>5.857143</td>\n",
       "      <td>Cluster 3</td>\n",
       "    </tr>\n",
       "    <tr>\n",
       "      <th>2</th>\n",
       "      <td>Italian Restaurant</td>\n",
       "      <td>3.809524</td>\n",
       "      <td>Cluster 3</td>\n",
       "    </tr>\n",
       "    <tr>\n",
       "      <th>3</th>\n",
       "      <td>Bar</td>\n",
       "      <td>3.238095</td>\n",
       "      <td>Cluster 3</td>\n",
       "    </tr>\n",
       "    <tr>\n",
       "      <th>4</th>\n",
       "      <td>Cluster Labels</td>\n",
       "      <td>3.000000</td>\n",
       "      <td>Cluster 3</td>\n",
       "    </tr>\n",
       "  </tbody>\n",
       "</table>\n",
       "</div>"
      ],
      "text/plain": [
       "          sub_category  Number Venues    Cluster\n",
       "0    French Restaurant      11.800000  Cluster 0\n",
       "1                Hotel       7.500000  Cluster 0\n",
       "2   Italian Restaurant       3.466667  Cluster 0\n",
       "3  Japanese Restaurant       2.366667  Cluster 0\n",
       "4                 Café       2.233333  Cluster 0\n",
       "0    French Restaurant       7.363636  Cluster 1\n",
       "1                Hotel       3.363636  Cluster 1\n",
       "2                  Bar       3.363636  Cluster 1\n",
       "3                 Café       2.090909  Cluster 1\n",
       "4               Bistro       1.727273  Cluster 1\n",
       "0    French Restaurant       7.500000  Cluster 2\n",
       "1                  Bar       3.222222  Cluster 2\n",
       "2                Hotel       2.666667  Cluster 2\n",
       "3   Italian Restaurant       2.111111  Cluster 2\n",
       "4       Cluster Labels       2.000000  Cluster 2\n",
       "0    French Restaurant       9.476190  Cluster 3\n",
       "1                Hotel       5.857143  Cluster 3\n",
       "2   Italian Restaurant       3.809524  Cluster 3\n",
       "3                  Bar       3.238095  Cluster 3\n",
       "4       Cluster Labels       3.000000  Cluster 3"
      ]
     },
     "execution_count": 154,
     "metadata": {},
     "output_type": "execute_result"
    }
   ],
   "source": [
    "res"
   ]
  },
  {
   "cell_type": "code",
   "execution_count": 155,
   "metadata": {},
   "outputs": [
    {
     "data": {
      "image/png": "[encoded data removed]",
      "text/plain": [
       "<Figure size 720x360 with 1 Axes>"
      ]
     },
     "metadata": {
      "needs_background": "light"
     },
     "output_type": "display_data"
    }
   ],
   "source": [
    "fig, ax = plt.subplots(figsize=(10,5))\n",
    "\n",
    "\n",
    "ax = sns.barplot(x='sub_category',y='Number Venues',data=res,hue='Cluster',palette=rainbow)\n",
    "rotation = 90 \n",
    "ax.set_xlabel('')\n",
    "ax.set_xticklabels(ax.get_xticklabels(), rotation = rotation)\n",
    "plt.legend(loc='upper right')\n",
    "plt.title('Venues Number by top 5 sub-categories for each Cluster')\n",
    "plt.savefig('Figure2_result.png',pad_inches=0.5,bbox_inches='tight')\n",
    "\n",
    "plt.show()"
   ]
  },
  {
   "cell_type": "markdown",
   "metadata": {},
   "source": [
    "<hr>\n",
    "<h3>Thanks for your follow up !!! </h3>"
   ]
  }
 ],
 "metadata": {
  "kernelspec": {
   "display_name": "Python 3",
   "language": "python",
   "name": "python3"
  },
  "language_info": {
   "codemirror_mode": {
    "name": "ipython",
    "version": 3
   },
   "file_extension": ".py",
   "mimetype": "text/x-python",
   "name": "python",
   "nbconvert_exporter": "python",
   "pygments_lexer": "ipython3",
   "version": "3.6.8"
  }
 },
 "nbformat": 4,
 "nbformat_minor": 2
}
